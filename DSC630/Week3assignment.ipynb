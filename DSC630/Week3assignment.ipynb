{
 "cells": [
  {
   "cell_type": "markdown",
   "id": "d966deb5",
   "metadata": {},
   "source": [
    "DSC630-T302: Brandon Mather - Week 3 assignment"
   ]
  },
  {
   "cell_type": "markdown",
   "id": "952adb73",
   "metadata": {},
   "source": [
    "In this assignment, you will be using data on the Los Angeles Dodgers Major League Baseball (MLB) team. Use this data to make a recommendation to management on how to improve attendance. Tell a story with your analysis and clearly explain the steps you take to arrive at your conclusion. This is an open-ended question, and there is no one right answer. You are welcome to do additional research and/or use domain knowledge to assist your analysis, but clearly state any assumptions you make."
   ]
  },
  {
   "cell_type": "code",
   "execution_count": 2,
   "id": "8c84aa37",
   "metadata": {},
   "outputs": [],
   "source": [
    "import pandas as pd\n",
    "import numpy as np\n",
    "import seaborn as sns\n",
    "import matplotlib.pyplot as plt"
   ]
  },
  {
   "cell_type": "code",
   "execution_count": 3,
   "id": "3d689e3a",
   "metadata": {},
   "outputs": [],
   "source": [
    "dodgers = pd.read_csv('dodgers-2022.csv')"
   ]
  },
  {
   "cell_type": "code",
   "execution_count": 4,
   "id": "f6c87730",
   "metadata": {},
   "outputs": [
    {
     "data": {
      "text/html": [
       "<div>\n",
       "<style scoped>\n",
       "    .dataframe tbody tr th:only-of-type {\n",
       "        vertical-align: middle;\n",
       "    }\n",
       "\n",
       "    .dataframe tbody tr th {\n",
       "        vertical-align: top;\n",
       "    }\n",
       "\n",
       "    .dataframe thead th {\n",
       "        text-align: right;\n",
       "    }\n",
       "</style>\n",
       "<table border=\"1\" class=\"dataframe\">\n",
       "  <thead>\n",
       "    <tr style=\"text-align: right;\">\n",
       "      <th></th>\n",
       "      <th>month</th>\n",
       "      <th>day</th>\n",
       "      <th>attend</th>\n",
       "      <th>day_of_week</th>\n",
       "      <th>opponent</th>\n",
       "      <th>temp</th>\n",
       "      <th>skies</th>\n",
       "      <th>day_night</th>\n",
       "      <th>cap</th>\n",
       "      <th>shirt</th>\n",
       "      <th>fireworks</th>\n",
       "      <th>bobblehead</th>\n",
       "    </tr>\n",
       "  </thead>\n",
       "  <tbody>\n",
       "    <tr>\n",
       "      <th>0</th>\n",
       "      <td>APR</td>\n",
       "      <td>10</td>\n",
       "      <td>56000</td>\n",
       "      <td>Tuesday</td>\n",
       "      <td>Pirates</td>\n",
       "      <td>67</td>\n",
       "      <td>Clear</td>\n",
       "      <td>Day</td>\n",
       "      <td>NO</td>\n",
       "      <td>NO</td>\n",
       "      <td>NO</td>\n",
       "      <td>NO</td>\n",
       "    </tr>\n",
       "    <tr>\n",
       "      <th>1</th>\n",
       "      <td>APR</td>\n",
       "      <td>11</td>\n",
       "      <td>29729</td>\n",
       "      <td>Wednesday</td>\n",
       "      <td>Pirates</td>\n",
       "      <td>58</td>\n",
       "      <td>Cloudy</td>\n",
       "      <td>Night</td>\n",
       "      <td>NO</td>\n",
       "      <td>NO</td>\n",
       "      <td>NO</td>\n",
       "      <td>NO</td>\n",
       "    </tr>\n",
       "    <tr>\n",
       "      <th>2</th>\n",
       "      <td>APR</td>\n",
       "      <td>12</td>\n",
       "      <td>28328</td>\n",
       "      <td>Thursday</td>\n",
       "      <td>Pirates</td>\n",
       "      <td>57</td>\n",
       "      <td>Cloudy</td>\n",
       "      <td>Night</td>\n",
       "      <td>NO</td>\n",
       "      <td>NO</td>\n",
       "      <td>NO</td>\n",
       "      <td>NO</td>\n",
       "    </tr>\n",
       "    <tr>\n",
       "      <th>3</th>\n",
       "      <td>APR</td>\n",
       "      <td>13</td>\n",
       "      <td>31601</td>\n",
       "      <td>Friday</td>\n",
       "      <td>Padres</td>\n",
       "      <td>54</td>\n",
       "      <td>Cloudy</td>\n",
       "      <td>Night</td>\n",
       "      <td>NO</td>\n",
       "      <td>NO</td>\n",
       "      <td>YES</td>\n",
       "      <td>NO</td>\n",
       "    </tr>\n",
       "    <tr>\n",
       "      <th>4</th>\n",
       "      <td>APR</td>\n",
       "      <td>14</td>\n",
       "      <td>46549</td>\n",
       "      <td>Saturday</td>\n",
       "      <td>Padres</td>\n",
       "      <td>57</td>\n",
       "      <td>Cloudy</td>\n",
       "      <td>Night</td>\n",
       "      <td>NO</td>\n",
       "      <td>NO</td>\n",
       "      <td>NO</td>\n",
       "      <td>NO</td>\n",
       "    </tr>\n",
       "    <tr>\n",
       "      <th>...</th>\n",
       "      <td>...</td>\n",
       "      <td>...</td>\n",
       "      <td>...</td>\n",
       "      <td>...</td>\n",
       "      <td>...</td>\n",
       "      <td>...</td>\n",
       "      <td>...</td>\n",
       "      <td>...</td>\n",
       "      <td>...</td>\n",
       "      <td>...</td>\n",
       "      <td>...</td>\n",
       "      <td>...</td>\n",
       "    </tr>\n",
       "    <tr>\n",
       "      <th>76</th>\n",
       "      <td>SEP</td>\n",
       "      <td>29</td>\n",
       "      <td>40724</td>\n",
       "      <td>Saturday</td>\n",
       "      <td>Rockies</td>\n",
       "      <td>84</td>\n",
       "      <td>Cloudy</td>\n",
       "      <td>Night</td>\n",
       "      <td>NO</td>\n",
       "      <td>NO</td>\n",
       "      <td>NO</td>\n",
       "      <td>NO</td>\n",
       "    </tr>\n",
       "    <tr>\n",
       "      <th>77</th>\n",
       "      <td>SEP</td>\n",
       "      <td>30</td>\n",
       "      <td>35607</td>\n",
       "      <td>Sunday</td>\n",
       "      <td>Rockies</td>\n",
       "      <td>95</td>\n",
       "      <td>Clear</td>\n",
       "      <td>Day</td>\n",
       "      <td>NO</td>\n",
       "      <td>NO</td>\n",
       "      <td>NO</td>\n",
       "      <td>NO</td>\n",
       "    </tr>\n",
       "    <tr>\n",
       "      <th>78</th>\n",
       "      <td>OCT</td>\n",
       "      <td>1</td>\n",
       "      <td>33624</td>\n",
       "      <td>Monday</td>\n",
       "      <td>Giants</td>\n",
       "      <td>86</td>\n",
       "      <td>Clear</td>\n",
       "      <td>Night</td>\n",
       "      <td>NO</td>\n",
       "      <td>NO</td>\n",
       "      <td>NO</td>\n",
       "      <td>NO</td>\n",
       "    </tr>\n",
       "    <tr>\n",
       "      <th>79</th>\n",
       "      <td>OCT</td>\n",
       "      <td>2</td>\n",
       "      <td>42473</td>\n",
       "      <td>Tuesday</td>\n",
       "      <td>Giants</td>\n",
       "      <td>83</td>\n",
       "      <td>Clear</td>\n",
       "      <td>Night</td>\n",
       "      <td>NO</td>\n",
       "      <td>NO</td>\n",
       "      <td>NO</td>\n",
       "      <td>NO</td>\n",
       "    </tr>\n",
       "    <tr>\n",
       "      <th>80</th>\n",
       "      <td>OCT</td>\n",
       "      <td>3</td>\n",
       "      <td>34014</td>\n",
       "      <td>Wednesday</td>\n",
       "      <td>Giants</td>\n",
       "      <td>82</td>\n",
       "      <td>Cloudy</td>\n",
       "      <td>Night</td>\n",
       "      <td>NO</td>\n",
       "      <td>NO</td>\n",
       "      <td>NO</td>\n",
       "      <td>NO</td>\n",
       "    </tr>\n",
       "  </tbody>\n",
       "</table>\n",
       "<p>81 rows × 12 columns</p>\n",
       "</div>"
      ],
      "text/plain": [
       "   month  day  attend day_of_week opponent  temp   skies day_night cap shirt  \\\n",
       "0    APR   10   56000     Tuesday  Pirates    67  Clear        Day  NO    NO   \n",
       "1    APR   11   29729   Wednesday  Pirates    58  Cloudy     Night  NO    NO   \n",
       "2    APR   12   28328    Thursday  Pirates    57  Cloudy     Night  NO    NO   \n",
       "3    APR   13   31601      Friday   Padres    54  Cloudy     Night  NO    NO   \n",
       "4    APR   14   46549    Saturday   Padres    57  Cloudy     Night  NO    NO   \n",
       "..   ...  ...     ...         ...      ...   ...     ...       ...  ..   ...   \n",
       "76   SEP   29   40724    Saturday  Rockies    84  Cloudy     Night  NO    NO   \n",
       "77   SEP   30   35607      Sunday  Rockies    95  Clear        Day  NO    NO   \n",
       "78   OCT    1   33624      Monday   Giants    86  Clear      Night  NO    NO   \n",
       "79   OCT    2   42473     Tuesday   Giants    83  Clear      Night  NO    NO   \n",
       "80   OCT    3   34014   Wednesday   Giants    82  Cloudy     Night  NO    NO   \n",
       "\n",
       "   fireworks bobblehead  \n",
       "0         NO         NO  \n",
       "1         NO         NO  \n",
       "2         NO         NO  \n",
       "3        YES         NO  \n",
       "4         NO         NO  \n",
       "..       ...        ...  \n",
       "76        NO         NO  \n",
       "77        NO         NO  \n",
       "78        NO         NO  \n",
       "79        NO         NO  \n",
       "80        NO         NO  \n",
       "\n",
       "[81 rows x 12 columns]"
      ]
     },
     "execution_count": 4,
     "metadata": {},
     "output_type": "execute_result"
    }
   ],
   "source": [
    "dodgers"
   ]
  },
  {
   "cell_type": "code",
   "execution_count": 5,
   "id": "785a77a4",
   "metadata": {},
   "outputs": [
    {
     "data": {
      "text/plain": [
       "[Text(0.5, 0, 'Day of Week'),\n",
       " Text(0, 0.5, 'Attendance'),\n",
       " Text(0.5, 1.0, 'Day of Week vs Attendance Comparison')]"
      ]
     },
     "execution_count": 5,
     "metadata": {},
     "output_type": "execute_result"
    },
    {
     "data": {
      "image/png": "[encoded data removed]",
      "text/plain": [
       "<Figure size 432x288 with 1 Axes>"
      ]
     },
     "metadata": {
      "needs_background": "light"
     },
     "output_type": "display_data"
    }
   ],
   "source": [
    "#Seeing if Day of the Week effects attendance using scatter plot\n",
    "scatter = sns.scatterplot(data=dodgers, x=\"day_of_week\", y=\"attend\")\n",
    "scatter.set(xlabel='Day of Week',\n",
    "       ylabel='Attendance',\n",
    "       title='Day of Week vs Attendance Comparison')"
   ]
  },
  {
   "cell_type": "code",
   "execution_count": 6,
   "id": "04e77eb8",
   "metadata": {},
   "outputs": [],
   "source": [
    "Monday_games = dodgers[dodgers['day_of_week'] == 'Monday'] \n",
    "Tuesday_games = dodgers[dodgers['day_of_week'] == 'Tuesday'] \n",
    "Wednesday_games = dodgers[dodgers['day_of_week'] == 'Wednesday'] \n",
    "Thursday_games = dodgers[dodgers['day_of_week'] == 'Thursday'] \n",
    "Friday_games = dodgers[dodgers['day_of_week'] == 'Friday'] \n",
    "Saturday_games = dodgers[dodgers['day_of_week'] == 'Saturday'] \n",
    "Sunday_games = dodgers[dodgers['day_of_week'] == 'Sunday'] "
   ]
  },
  {
   "cell_type": "code",
   "execution_count": 7,
   "id": "969d0f67",
   "metadata": {},
   "outputs": [],
   "source": [
    "Monday_games_mean = Monday_games['attend'].mean()\n",
    "Tuesday_games_mean = Tuesday_games['attend'].mean()\n",
    "Wednesday_games_mean = Wednesday_games['attend'].mean()\n",
    "Thursday_games_mean = Thursday_games['attend'].mean()\n",
    "Friday_games_mean = Friday_games['attend'].mean()\n",
    "Saturday_games_mean = Saturday_games['attend'].mean()\n",
    "Sunday_games_mean = Sunday_games['attend'].mean()"
   ]
  },
  {
   "cell_type": "code",
   "execution_count": 17,
   "id": "7a42a168",
   "metadata": {},
   "outputs": [
    {
     "name": "stdout",
     "output_type": "stream",
     "text": [
      "Monday Game Average Attendance: 34965.666666666664\n",
      "Tuesday Game Average Attendance: 47741.230769230766\n",
      "Wednesday Game Average Attendance: 37585.166666666664\n",
      "Thursday Game Average Attendance: 40407.4\n",
      "Friday Game Average Attendance: 40116.92307692308\n",
      "Saturday Game Average Attendance: 43072.92307692308\n",
      "Sunday Game Average Attendance: 42268.846153846156\n",
      "Overall Average Attendance: 41040.07407407407\n"
     ]
    }
   ],
   "source": [
    "print(\"Monday Game Average Attendance:\", Monday_games_mean)\n",
    "print(\"Tuesday Game Average Attendance:\", Tuesday_games_mean)\n",
    "print(\"Wednesday Game Average Attendance:\", Wednesday_games_mean)\n",
    "print(\"Thursday Game Average Attendance:\", Thursday_games_mean)\n",
    "print(\"Friday Game Average Attendance:\", Friday_games_mean)\n",
    "print(\"Saturday Game Average Attendance:\", Saturday_games_mean)\n",
    "print(\"Sunday Game Average Attendance:\", Sunday_games_mean)\n",
    "print(\"Overall Average Attendance:\", attendance_mean)"
   ]
  },
  {
   "cell_type": "markdown",
   "id": "47bba53d",
   "metadata": {},
   "source": [
    "Tuesday's, Saturday's, and Sunday's have more higher attendance compared to Wednesday's, Monday's, Thursday's, and Friday's."
   ]
  },
  {
   "cell_type": "code",
   "execution_count": 9,
   "id": "5bef6073",
   "metadata": {},
   "outputs": [],
   "source": [
    "#Seeing if time of day effects attendence \n",
    "night_games = dodgers[dodgers['day_night'] == 'Night'] \n",
    "day_games = dodgers[dodgers['day_night'] == 'Day'] "
   ]
  },
  {
   "cell_type": "code",
   "execution_count": 10,
   "id": "ff99a6df",
   "metadata": {},
   "outputs": [],
   "source": [
    "night_games_mean = night_games['attend'].mean()\n",
    "day_games_mean = day_games['attend'].mean()"
   ]
  },
  {
   "cell_type": "code",
   "execution_count": 16,
   "id": "1541b2d5",
   "metadata": {},
   "outputs": [
    {
     "name": "stdout",
     "output_type": "stream",
     "text": [
      "Night Game Average Attendance: 40868.893939393936\n",
      "Day Game Average Attendance: 41793.26666666667\n",
      "Overall Average Attendance: 41040.07407407407\n"
     ]
    }
   ],
   "source": [
    "print(\"Night Game Average Attendance:\", night_games_mean)\n",
    "print(\"Day Game Average Attendance:\", day_games_mean)\n",
    "print(\"Overall Average Attendance:\", attendance_mean)"
   ]
  },
  {
   "cell_type": "markdown",
   "id": "fc3b27bd",
   "metadata": {},
   "source": [
    "Day Game Average is better then night time, but not a large amount"
   ]
  },
  {
   "cell_type": "code",
   "execution_count": 12,
   "id": "c0d0ef85",
   "metadata": {},
   "outputs": [
    {
     "data": {
      "text/plain": [
       "[Text(0.5, 0, 'Day of Month'),\n",
       " Text(0, 0.5, 'Attendance'),\n",
       " Text(0.5, 1.0, 'Day of Month vs Attendance Comparison')]"
      ]
     },
     "execution_count": 12,
     "metadata": {},
     "output_type": "execute_result"
    },
    {
     "data": {
      "image/png": "[encoded data removed]",
      "text/plain": [
       "<Figure size 432x288 with 1 Axes>"
      ]
     },
     "metadata": {
      "needs_background": "light"
     },
     "output_type": "display_data"
    }
   ],
   "source": [
    "#Seeing if Day of the Month effects attendance using scatter plot\n",
    "scatter2 = sns.scatterplot(data=dodgers, x=\"day\", y=\"attend\")\n",
    "scatter2.set(xlabel='Day of Month',\n",
    "       ylabel='Attendance',\n",
    "       title='Day of Month vs Attendance Comparison')"
   ]
  },
  {
   "cell_type": "markdown",
   "id": "d1fdee66",
   "metadata": {},
   "source": [
    "No meaningful impact on attendace for the day of the month. "
   ]
  },
  {
   "cell_type": "code",
   "execution_count": 13,
   "id": "475e7959",
   "metadata": {},
   "outputs": [],
   "source": [
    "#Seeing if having a special event effects attendance\n",
    "cap_games = dodgers[dodgers['cap'] == 'YES'] \n",
    "shirt_games = dodgers[dodgers['shirt'] == 'YES'] \n",
    "fireworks_games = dodgers[dodgers['fireworks'] == 'YES'] \n",
    "bobblehead_games = dodgers[dodgers['bobblehead'] == 'YES']"
   ]
  },
  {
   "cell_type": "code",
   "execution_count": 14,
   "id": "f33e8865",
   "metadata": {},
   "outputs": [],
   "source": [
    "cap_games_mean = cap_games['attend'].mean()\n",
    "shirt_games_mean = shirt_games['attend'].mean()\n",
    "fireworks_games_mean = fireworks_games['attend'].mean()\n",
    "bobblehead_games_mean = bobblehead_games['attend'].mean()\n",
    "attendance_mean = dodgers['attend'].mean()"
   ]
  },
  {
   "cell_type": "code",
   "execution_count": 15,
   "id": "768ec332",
   "metadata": {
    "scrolled": false
   },
   "outputs": [
    {
     "name": "stdout",
     "output_type": "stream",
     "text": [
      "Cap Game Average Attendance: 38189.5\n",
      "Shirt Game Average Attendance: 46643.666666666664\n",
      "Fireworks Game Average Attendance: 41077.857142857145\n",
      "Bobblehead Game Average Attendance: 53144.63636363636\n",
      "Overall Average Attendance: 41040.07407407407\n"
     ]
    }
   ],
   "source": [
    "print(\"Cap Game Average Attendance:\", cap_games_mean)\n",
    "print(\"Shirt Game Average Attendance:\", shirt_games_mean)\n",
    "print(\"Fireworks Game Average Attendance:\", fireworks_games_mean)\n",
    "print(\"Bobblehead Game Average Attendance:\", bobblehead_games_mean)\n",
    "print(\"Overall Average Attendance:\", attendance_mean)"
   ]
  },
  {
   "cell_type": "code",
   "execution_count": 32,
   "id": "6bf451d9",
   "metadata": {},
   "outputs": [],
   "source": [
    "dodgers.replace(('YES', 'NO'), (1, 0), inplace=True)"
   ]
  },
  {
   "cell_type": "code",
   "execution_count": 39,
   "id": "c483f83f",
   "metadata": {},
   "outputs": [
    {
     "name": "stdout",
     "output_type": "stream",
     "text": [
      "Bobblehead correlation to attendance: 0.5818949681431969\n"
     ]
    }
   ],
   "source": [
    "bobblehead_corr = np.corrcoef(dodgers['bobblehead'], dodgers['attend'])[0,1]\n",
    "print ('Bobblehead correlation to attendance:', bobblehead_corr)"
   ]
  },
  {
   "cell_type": "code",
   "execution_count": 42,
   "id": "c1fd85dd",
   "metadata": {},
   "outputs": [
    {
     "name": "stdout",
     "output_type": "stream",
     "text": [
      "Shirt correlation to attendance: 0.13326867137616527\n"
     ]
    }
   ],
   "source": [
    "shirt_corr = np.corrcoef(dodgers['shirt'], dodgers['attend'])[0,1]\n",
    "print ('Shirt correlation to attendance:', shirt_corr)"
   ]
  },
  {
   "cell_type": "markdown",
   "id": "899c263d",
   "metadata": {},
   "source": [
    "Giving away a free shirt increases attendance on average by about 5,000, giving away Bobblehad increases attendance average by about 12,000. "
   ]
  },
  {
   "cell_type": "markdown",
   "id": "590c9e52",
   "metadata": {},
   "source": [
    "Based off my review of the data given for attendance I would say the best way to increase attendance for games would be to hold those games on Tuesday's, Saturday's, and Sunday's, and then have Bobblehead and Shirt giveaways. I looked at possible effects on attendance including day of the week, time of day, day of the month, and special events. There was no considerable effect on attendance looking at time of day or day of the month. The largest increases in average attendance were due to Bobblehead giveaways - 29.4% increase, having a Tuesday game - 16.3%, and Shirt giveaways - 13.6% increase."
   ]
  }
 ],
 "metadata": {
  "kernelspec": {
   "display_name": "Python 3 (ipykernel)",
   "language": "python",
   "name": "python3"
  },
  "language_info": {
   "codemirror_mode": {
    "name": "ipython",
    "version": 3
   },
   "file_extension": ".py",
   "mimetype": "text/x-python",
   "name": "python",
   "nbconvert_exporter": "python",
   "pygments_lexer": "ipython3",
   "version": "3.9.12"
  }
 },
 "nbformat": 4,
 "nbformat_minor": 5
}
