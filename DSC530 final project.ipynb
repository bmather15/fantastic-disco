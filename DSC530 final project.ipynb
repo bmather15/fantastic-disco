{
 "cells": [
  {
   "cell_type": "code",
   "execution_count": 5,
   "id": "9d432eca",
   "metadata": {},
   "outputs": [],
   "source": [
    "import pandas as pd\n",
    "import numpy as np"
   ]
  },
  {
   "cell_type": "code",
   "execution_count": 6,
   "id": "87e6e28c",
   "metadata": {},
   "outputs": [],
   "source": [
    "data = pd.read_csv('Play by Play data.2021.csv')"
   ]
  },
  {
   "cell_type": "code",
   "execution_count": 7,
   "id": "eecdd845",
   "metadata": {},
   "outputs": [],
   "source": [
    "to_drop = ['GameId',\n",
    "           'GameDate',\n",
    "           'Quarter',\n",
    "           'Minute',\n",
    "           'Second',\n",
    "           'DefenseTeam',\n",
    "           'YardLine',\n",
    "           'NextScore',\n",
    "           'Description',\n",
    "           'TeamWin',\n",
    "           'SeasonYear',\n",
    "           'Yards',\n",
    "           'Formation',\n",
    "           'IsRush',\n",
    "           'IsPass',\n",
    "           'IsIncomplete',\n",
    "           'IsTouchdown',\n",
    "           'PassType',\n",
    "           'IsSack',\n",
    "           'IsChallenge',\n",
    "           'IsChallengeReversed',\n",
    "           'Challenger',\n",
    "           'IsMeasurement',\n",
    "           'IsInterception',\n",
    "           'YardLineDirection',\n",
    "           'IsFumble',\n",
    "           'IsPenalty',\n",
    "           'IsTwoPointConversion',\n",
    "           'IsTwoPointConversionSuccessful',\n",
    "           'RushDirection',\n",
    "           'YardLineFixed',\n",
    "           'IsPenaltyAccepted',\n",
    "           'PenaltyTeam',\n",
    "           'IsNoPlay',\n",
    "           'PenaltyType',\n",
    "           'Unnamed: 10',\n",
    "           'Unnamed: 12',\n",
    "           'Unnamed: 16',\n",
    "           'Unnamed: 17',\n",
    "           'PenaltyYards']\n",
    "\n",
    "data.drop(to_drop, inplace=True, axis=1)\n",
    "  \n",
    "#Cleaning data to get only the variables that I need.     "
   ]
  },
  {
   "cell_type": "code",
   "execution_count": 8,
   "id": "d4857f2e",
   "metadata": {},
   "outputs": [
    {
     "data": {
      "text/html": [
       "<div>\n",
       "<style scoped>\n",
       "    .dataframe tbody tr th:only-of-type {\n",
       "        vertical-align: middle;\n",
       "    }\n",
       "\n",
       "    .dataframe tbody tr th {\n",
       "        vertical-align: top;\n",
       "    }\n",
       "\n",
       "    .dataframe thead th {\n",
       "        text-align: right;\n",
       "    }\n",
       "</style>\n",
       "<table border=\"1\" class=\"dataframe\">\n",
       "  <thead>\n",
       "    <tr style=\"text-align: right;\">\n",
       "      <th></th>\n",
       "      <th>OffenseTeam</th>\n",
       "      <th>Down</th>\n",
       "      <th>ToGo</th>\n",
       "      <th>SeriesFirstDown</th>\n",
       "      <th>PlayType</th>\n",
       "    </tr>\n",
       "  </thead>\n",
       "  <tbody>\n",
       "    <tr>\n",
       "      <th>0</th>\n",
       "      <td>MIN</td>\n",
       "      <td>1</td>\n",
       "      <td>10</td>\n",
       "      <td>1</td>\n",
       "      <td>PASS</td>\n",
       "    </tr>\n",
       "    <tr>\n",
       "      <th>1</th>\n",
       "      <td>MIN</td>\n",
       "      <td>1</td>\n",
       "      <td>10</td>\n",
       "      <td>0</td>\n",
       "      <td>PASS</td>\n",
       "    </tr>\n",
       "    <tr>\n",
       "      <th>2</th>\n",
       "      <td>MIN</td>\n",
       "      <td>2</td>\n",
       "      <td>2</td>\n",
       "      <td>1</td>\n",
       "      <td>PASS</td>\n",
       "    </tr>\n",
       "    <tr>\n",
       "      <th>3</th>\n",
       "      <td>MIN</td>\n",
       "      <td>1</td>\n",
       "      <td>8</td>\n",
       "      <td>0</td>\n",
       "      <td>RUSH</td>\n",
       "    </tr>\n",
       "    <tr>\n",
       "      <th>4</th>\n",
       "      <td>WAS</td>\n",
       "      <td>2</td>\n",
       "      <td>2</td>\n",
       "      <td>1</td>\n",
       "      <td>RUSH</td>\n",
       "    </tr>\n",
       "    <tr>\n",
       "      <th>...</th>\n",
       "      <td>...</td>\n",
       "      <td>...</td>\n",
       "      <td>...</td>\n",
       "      <td>...</td>\n",
       "      <td>...</td>\n",
       "    </tr>\n",
       "    <tr>\n",
       "      <th>42790</th>\n",
       "      <td>BUF</td>\n",
       "      <td>2</td>\n",
       "      <td>10</td>\n",
       "      <td>0</td>\n",
       "      <td>RUSH</td>\n",
       "    </tr>\n",
       "    <tr>\n",
       "      <th>42791</th>\n",
       "      <td>BUF</td>\n",
       "      <td>2</td>\n",
       "      <td>10</td>\n",
       "      <td>0</td>\n",
       "      <td>PASS</td>\n",
       "    </tr>\n",
       "    <tr>\n",
       "      <th>42792</th>\n",
       "      <td>BUF</td>\n",
       "      <td>1</td>\n",
       "      <td>10</td>\n",
       "      <td>0</td>\n",
       "      <td>RUSH</td>\n",
       "    </tr>\n",
       "    <tr>\n",
       "      <th>42793</th>\n",
       "      <td>BUF</td>\n",
       "      <td>2</td>\n",
       "      <td>3</td>\n",
       "      <td>0</td>\n",
       "      <td>PASS</td>\n",
       "    </tr>\n",
       "    <tr>\n",
       "      <th>42794</th>\n",
       "      <td>ATL</td>\n",
       "      <td>3</td>\n",
       "      <td>3</td>\n",
       "      <td>0</td>\n",
       "      <td>PASS</td>\n",
       "    </tr>\n",
       "  </tbody>\n",
       "</table>\n",
       "<p>42795 rows × 5 columns</p>\n",
       "</div>"
      ],
      "text/plain": [
       "      OffenseTeam  Down  ToGo  SeriesFirstDown PlayType\n",
       "0             MIN     1    10                1     PASS\n",
       "1             MIN     1    10                0     PASS\n",
       "2             MIN     2     2                1     PASS\n",
       "3             MIN     1     8                0     RUSH\n",
       "4             WAS     2     2                1     RUSH\n",
       "...           ...   ...   ...              ...      ...\n",
       "42790         BUF     2    10                0     RUSH\n",
       "42791         BUF     2    10                0     PASS\n",
       "42792         BUF     1    10                0     RUSH\n",
       "42793         BUF     2     3                0     PASS\n",
       "42794         ATL     3     3                0     PASS\n",
       "\n",
       "[42795 rows x 5 columns]"
      ]
     },
     "metadata": {},
     "output_type": "display_data"
    }
   ],
   "source": [
    "display(data)"
   ]
  },
  {
   "cell_type": "code",
   "execution_count": 9,
   "id": "ff2c1486",
   "metadata": {},
   "outputs": [],
   "source": [
    "#1:\n",
    "#The five variables in my dataset are the offensive team, the current down, how many yards to go for first down, \n",
    "#if the play resulted in a first down, and what the play type was. Down, ToGo, SeriesFirstDown are numeric variables. \n",
    "#OffenseTeam and PlayType are Categorical variables.  \n"
   ]
  },
  {
   "cell_type": "code",
   "execution_count": 16,
   "id": "1b3e40a1",
   "metadata": {},
   "outputs": [
    {
     "name": "stdout",
     "output_type": "stream",
     "text": [
      "Downloaded thinkstats2.py\n",
      "Downloaded thinkplot.py\n"
     ]
    }
   ],
   "source": [
    "#2:\n",
    "from os.path import basename, exists\n",
    "\n",
    "\n",
    "def download(url):\n",
    "    filename = basename(url)\n",
    "    if not exists(filename):\n",
    "        from urllib.request import urlretrieve\n",
    "\n",
    "        local, _ = urlretrieve(url, filename)\n",
    "        print(\"Downloaded \" + local)\n",
    "download(\"https://github.com/AllenDowney/ThinkStats2/raw/master/code/thinkstats2.py\")\n",
    "download(\"https://github.com/AllenDowney/ThinkStats2/raw/master/code/thinkplot.py\")"
   ]
  },
  {
   "cell_type": "code",
   "execution_count": 17,
   "id": "3c4ae5a0",
   "metadata": {},
   "outputs": [],
   "source": [
    "import thinkstats2\n",
    "import thinkplot"
   ]
  },
  {
   "cell_type": "code",
   "execution_count": 20,
   "id": "c47ad832",
   "metadata": {},
   "outputs": [
    {
     "data": {
      "image/png": "[encoded data removed]",
      "text/plain": [
       "<Figure size 432x288 with 1 Axes>"
      ]
     },
     "metadata": {
      "needs_background": "light"
     },
     "output_type": "display_data"
    }
   ],
   "source": [
    "hist = thinkstats2.Hist(data.OffenseTeam, label='OffenseTeam')\n",
    "thinkplot.Hist(hist)\n",
    "thinkplot.Config(xlabel='Offensive Teams', ylabel='Count')"
   ]
  },
  {
   "cell_type": "code",
   "execution_count": 21,
   "id": "9d748805",
   "metadata": {},
   "outputs": [
    {
     "data": {
      "image/png": "[encoded data removed]",
      "text/plain": [
       "<Figure size 432x288 with 1 Axes>"
      ]
     },
     "metadata": {
      "needs_background": "light"
     },
     "output_type": "display_data"
    }
   ],
   "source": [
    "hist = thinkstats2.Hist(data.Down, label='Down')\n",
    "thinkplot.Hist(hist)\n",
    "thinkplot.Config(xlabel='Down', ylabel='Count')"
   ]
  },
  {
   "cell_type": "code",
   "execution_count": 22,
   "id": "bd39a901",
   "metadata": {},
   "outputs": [
    {
     "data": {
      "image/png": "[encoded data removed]",
      "text/plain": [
       "<Figure size 432x288 with 1 Axes>"
      ]
     },
     "metadata": {
      "needs_background": "light"
     },
     "output_type": "display_data"
    }
   ],
   "source": [
    "hist = thinkstats2.Hist(data.ToGo, label='ToGo')\n",
    "thinkplot.Hist(hist)\n",
    "thinkplot.Config(xlabel='Yards to first down', ylabel='Count')"
   ]
  },
  {
   "cell_type": "code",
   "execution_count": 23,
   "id": "5727594d",
   "metadata": {},
   "outputs": [
    {
     "data": {
      "image/png": "[encoded data removed]",
      "text/plain": [
       "<Figure size 432x288 with 1 Axes>"
      ]
     },
     "metadata": {
      "needs_background": "light"
     },
     "output_type": "display_data"
    }
   ],
   "source": [
    "hist = thinkstats2.Hist(data.SeriesFirstDown, label='SeriesFirstDown')\n",
    "thinkplot.Hist(hist)\n",
    "thinkplot.Config(xlabel='Play resulting in first down', ylabel='Count')"
   ]
  },
  {
   "cell_type": "code",
   "execution_count": 24,
   "id": "100c2134",
   "metadata": {},
   "outputs": [
    {
     "data": {
      "image/png": "[encoded data removed]",
      "text/plain": [
       "<Figure size 432x288 with 1 Axes>"
      ]
     },
     "metadata": {
      "needs_background": "light"
     },
     "output_type": "display_data"
    }
   ],
   "source": [
    "hist = thinkstats2.Hist(data.PlayType, label='PlayType')\n",
    "thinkplot.Hist(hist)\n",
    "thinkplot.Config(xlabel='Play Type', ylabel='Count')"
   ]
  },
  {
   "cell_type": "code",
   "execution_count": 26,
   "id": "a0484029",
   "metadata": {},
   "outputs": [],
   "source": [
    "#3:\n",
    "mean_down=data.Down.mean()\n",
    "mean_togo=data.ToGo.mean()\n",
    "mean_seriesfirstdown=data.SeriesFirstDown.mean()"
   ]
  },
  {
   "cell_type": "code",
   "execution_count": 27,
   "id": "512c9f31",
   "metadata": {},
   "outputs": [
    {
     "data": {
      "text/plain": [
       "1.6425984343965416"
      ]
     },
     "execution_count": 27,
     "metadata": {},
     "output_type": "execute_result"
    }
   ],
   "source": [
    "mean_down"
   ]
  },
  {
   "cell_type": "code",
   "execution_count": 28,
   "id": "c431a4d2",
   "metadata": {},
   "outputs": [
    {
     "data": {
      "text/plain": [
       "7.02596097674962"
      ]
     },
     "execution_count": 28,
     "metadata": {},
     "output_type": "execute_result"
    }
   ],
   "source": [
    "mean_togo"
   ]
  },
  {
   "cell_type": "code",
   "execution_count": 29,
   "id": "e6ca669d",
   "metadata": {},
   "outputs": [
    {
     "data": {
      "text/plain": [
       "0.37546442341395025"
      ]
     },
     "execution_count": 29,
     "metadata": {},
     "output_type": "execute_result"
    }
   ],
   "source": [
    "mean_seriesfirstdown"
   ]
  },
  {
   "cell_type": "code",
   "execution_count": 31,
   "id": "bb9e4378",
   "metadata": {},
   "outputs": [],
   "source": []
  },
  {
   "cell_type": "markdown",
   "id": "50539554",
   "metadata": {},
   "source": [
    "mode_offenseteam"
   ]
  },
  {
   "cell_type": "code",
   "execution_count": null,
   "id": "4e5c450d",
   "metadata": {},
   "outputs": [],
   "source": []
  }
 ],
 "metadata": {
  "kernelspec": {
   "display_name": "Python 3 (ipykernel)",
   "language": "python",
   "name": "python3"
  },
  "language_info": {
   "codemirror_mode": {
    "name": "ipython",
    "version": 3
   },
   "file_extension": ".py",
   "mimetype": "text/x-python",
   "name": "python",
   "nbconvert_exporter": "python",
   "pygments_lexer": "ipython3",
   "version": "3.9.12"
  }
 },
 "nbformat": 4,
 "nbformat_minor": 5
}
