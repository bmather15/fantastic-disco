{
 "cells": [
  {
   "cell_type": "markdown",
   "id": "33b5b2be",
   "metadata": {},
   "source": [
    "Activity 7: Generating Statistics from a CSV File"
   ]
  },
  {
   "cell_type": "code",
   "execution_count": 1,
   "id": "83f22f93",
   "metadata": {},
   "outputs": [],
   "source": [
    "from bs4 import BeautifulSoup\n",
    "import pandas as pd"
   ]
  },
  {
   "cell_type": "code",
   "execution_count": 2,
   "id": "6a5f6a8b",
   "metadata": {},
   "outputs": [],
   "source": [
    "#Read the page using bs4\n",
    "fd = open(\"List of countries by GDP (nominal) - Wikipedia.htm\", \"rb\")\n",
    "soup = BeautifulSoup(fd)\n",
    "fd.close()"
   ]
  },
  {
   "cell_type": "code",
   "execution_count": 3,
   "id": "fa8f7e10",
   "metadata": {},
   "outputs": [
    {
     "name": "stdout",
     "output_type": "stream",
     "text": [
      "Total number of tables are 9 \n"
     ]
    }
   ],
   "source": [
    "#How many tables there are\n",
    "number0f_tables = soup.find_all(\"table\")\n",
    "print(\"Total number of tables are {} \".format(len(number0f_tables)))"
   ]
  },
  {
   "cell_type": "code",
   "execution_count": 4,
   "id": "5c7971b5",
   "metadata": {},
   "outputs": [
    {
     "name": "stdout",
     "output_type": "stream",
     "text": [
      "<class 'bs4.element.Tag'>\n"
     ]
    }
   ],
   "source": [
    "#Find the right table using bs4\n",
    "data_table = soup.find(\"table\", {\"class\": '\"wikitable\"|}'})\n",
    "print(type(data_table))"
   ]
  },
  {
   "cell_type": "code",
   "execution_count": 5,
   "id": "83bc8911",
   "metadata": {},
   "outputs": [
    {
     "name": "stdout",
     "output_type": "stream",
     "text": [
      "3\n"
     ]
    }
   ],
   "source": [
    "#Separate the source names and their corresponding data\n",
    "sources = data_table.tbody.findAll('tr', recursive=False)[0]\n",
    "sources_list = [td for td in sources.findAll('td')]\n",
    "print(len(sources_list))"
   ]
  },
  {
   "cell_type": "code",
   "execution_count": 6,
   "id": "5492d818",
   "metadata": {},
   "outputs": [],
   "source": [
    "data = data_table.tbody.findAll('tr', recursive=False)[1].findAll('td', recursive=False)"
   ]
  },
  {
   "cell_type": "code",
   "execution_count": 7,
   "id": "054a4ea1",
   "metadata": {},
   "outputs": [],
   "source": [
    "data_tables = []\n",
    "for td in data:\n",
    "    data_tables.append(td.findAll('table'))"
   ]
  },
  {
   "cell_type": "code",
   "execution_count": 8,
   "id": "3f701415",
   "metadata": {},
   "outputs": [
    {
     "data": {
      "text/plain": [
       "3"
      ]
     },
     "execution_count": 8,
     "metadata": {},
     "output_type": "execute_result"
    }
   ],
   "source": [
    "len(data_tables)"
   ]
  },
  {
   "cell_type": "code",
   "execution_count": 9,
   "id": "32b9b907",
   "metadata": {},
   "outputs": [
    {
     "name": "stdout",
     "output_type": "stream",
     "text": [
      "['International Monetary Fund', 'World Bank', 'United Nations']\n"
     ]
    }
   ],
   "source": [
    "#Get the source names from the list of sources you have created\n",
    "source_names = [source.findAll('a')[0].getText() for source in sources_list]\n",
    "print(source_names)"
   ]
  },
  {
   "cell_type": "code",
   "execution_count": 10,
   "id": "3482a397",
   "metadata": {},
   "outputs": [
    {
     "data": {
      "text/plain": [
       "['Rank', 'Country', 'GDP(US$MM)']"
      ]
     },
     "execution_count": 10,
     "metadata": {},
     "output_type": "execute_result"
    }
   ],
   "source": [
    "#Separate the header and data, then create a dataframe using that\n",
    "header1 = [th.getText().strip() for th in data_tables[0][0].findAll('thead')[0].findAll('th')]\n",
    "header1"
   ]
  },
  {
   "cell_type": "code",
   "execution_count": 11,
   "id": "57d35d64",
   "metadata": {},
   "outputs": [],
   "source": [
    "rows1 = data_tables[0][0].findAll('tbody')[0].findAll('tr')[1:]"
   ]
  },
  {
   "cell_type": "code",
   "execution_count": 12,
   "id": "e9e60f37",
   "metadata": {},
   "outputs": [],
   "source": [
    "data_rows1 = [[td.get_text().strip() for td in tr.findAll('td')] for tr in rows1]"
   ]
  },
  {
   "cell_type": "code",
   "execution_count": 13,
   "id": "62dc6ece",
   "metadata": {},
   "outputs": [],
   "source": [
    "df1 = pd.DataFrame(data_rows1, columns=header1)"
   ]
  },
  {
   "cell_type": "code",
   "execution_count": 14,
   "id": "d77dfe7f",
   "metadata": {},
   "outputs": [
    {
     "data": {
      "text/html": [
       "<div>\n",
       "<style scoped>\n",
       "    .dataframe tbody tr th:only-of-type {\n",
       "        vertical-align: middle;\n",
       "    }\n",
       "\n",
       "    .dataframe tbody tr th {\n",
       "        vertical-align: top;\n",
       "    }\n",
       "\n",
       "    .dataframe thead th {\n",
       "        text-align: right;\n",
       "    }\n",
       "</style>\n",
       "<table border=\"1\" class=\"dataframe\">\n",
       "  <thead>\n",
       "    <tr style=\"text-align: right;\">\n",
       "      <th></th>\n",
       "      <th>Rank</th>\n",
       "      <th>Country</th>\n",
       "      <th>GDP(US$MM)</th>\n",
       "    </tr>\n",
       "  </thead>\n",
       "  <tbody>\n",
       "    <tr>\n",
       "      <th>0</th>\n",
       "      <td>1</td>\n",
       "      <td>United States</td>\n",
       "      <td>19,390,600</td>\n",
       "    </tr>\n",
       "    <tr>\n",
       "      <th>1</th>\n",
       "      <td>2</td>\n",
       "      <td>China[n 1]</td>\n",
       "      <td>12,014,610</td>\n",
       "    </tr>\n",
       "    <tr>\n",
       "      <th>2</th>\n",
       "      <td>3</td>\n",
       "      <td>Japan</td>\n",
       "      <td>4,872,135</td>\n",
       "    </tr>\n",
       "    <tr>\n",
       "      <th>3</th>\n",
       "      <td>4</td>\n",
       "      <td>Germany</td>\n",
       "      <td>3,684,816</td>\n",
       "    </tr>\n",
       "    <tr>\n",
       "      <th>4</th>\n",
       "      <td>5</td>\n",
       "      <td>United Kingdom</td>\n",
       "      <td>2,624,529</td>\n",
       "    </tr>\n",
       "  </tbody>\n",
       "</table>\n",
       "</div>"
      ],
      "text/plain": [
       "  Rank         Country  GDP(US$MM)\n",
       "0    1   United States  19,390,600\n",
       "1    2      China[n 1]  12,014,610\n",
       "2    3           Japan   4,872,135\n",
       "3    4         Germany   3,684,816\n",
       "4    5  United Kingdom   2,624,529"
      ]
     },
     "execution_count": 14,
     "metadata": {},
     "output_type": "execute_result"
    }
   ],
   "source": [
    "df1.head()"
   ]
  },
  {
   "cell_type": "code",
   "execution_count": 15,
   "id": "45582834",
   "metadata": {},
   "outputs": [
    {
     "data": {
      "text/plain": [
       "['Rank', 'Country', 'GDP(US$MM)']"
      ]
     },
     "execution_count": 15,
     "metadata": {},
     "output_type": "execute_result"
    }
   ],
   "source": [
    "#Repeat the last task for the other two data sources\n",
    "header2 = [th.getText().strip() for th in data_tables[1][0].findAll('thead')[0].findAll('th')]\n",
    "header2"
   ]
  },
  {
   "cell_type": "code",
   "execution_count": 16,
   "id": "c22fc10a",
   "metadata": {},
   "outputs": [],
   "source": [
    "rows2 = data_tables[1][0].findAll('tbody')[0].findAll('tr')[1:]"
   ]
  },
  {
   "cell_type": "code",
   "execution_count": 17,
   "id": "33a56273",
   "metadata": {},
   "outputs": [],
   "source": [
    "def find_right_text(i, td):\n",
    "    if i == 0:\n",
    "        return td.getText().strip()\n",
    "    elif i == 1:\n",
    "        return td.getText().strip()\n",
    "    else:\n",
    "        index = td.text.find(\"♠\")\n",
    "        return td.text[index+1:].strip()"
   ]
  },
  {
   "cell_type": "code",
   "execution_count": 18,
   "id": "790e94a6",
   "metadata": {},
   "outputs": [],
   "source": [
    "data_rows2 = [[find_right_text(i, td) for i, td in enumerate(tr.findAll('td'))] for tr in rows2]"
   ]
  },
  {
   "cell_type": "code",
   "execution_count": 19,
   "id": "e6a00006",
   "metadata": {},
   "outputs": [],
   "source": [
    "df2 = pd.DataFrame(data_rows2, columns=header2)"
   ]
  },
  {
   "cell_type": "code",
   "execution_count": 20,
   "id": "e91c74a1",
   "metadata": {},
   "outputs": [
    {
     "data": {
      "text/html": [
       "<div>\n",
       "<style scoped>\n",
       "    .dataframe tbody tr th:only-of-type {\n",
       "        vertical-align: middle;\n",
       "    }\n",
       "\n",
       "    .dataframe tbody tr th {\n",
       "        vertical-align: top;\n",
       "    }\n",
       "\n",
       "    .dataframe thead th {\n",
       "        text-align: right;\n",
       "    }\n",
       "</style>\n",
       "<table border=\"1\" class=\"dataframe\">\n",
       "  <thead>\n",
       "    <tr style=\"text-align: right;\">\n",
       "      <th></th>\n",
       "      <th>Rank</th>\n",
       "      <th>Country</th>\n",
       "      <th>GDP(US$MM)</th>\n",
       "    </tr>\n",
       "  </thead>\n",
       "  <tbody>\n",
       "    <tr>\n",
       "      <th>0</th>\n",
       "      <td>1</td>\n",
       "      <td>United States</td>\n",
       "      <td>19,390,604</td>\n",
       "    </tr>\n",
       "    <tr>\n",
       "      <th>1</th>\n",
       "      <td></td>\n",
       "      <td>European Union[23]</td>\n",
       "      <td>17,277,698</td>\n",
       "    </tr>\n",
       "    <tr>\n",
       "      <th>2</th>\n",
       "      <td>2</td>\n",
       "      <td>China[n 4]</td>\n",
       "      <td>12,237,700</td>\n",
       "    </tr>\n",
       "    <tr>\n",
       "      <th>3</th>\n",
       "      <td>3</td>\n",
       "      <td>Japan</td>\n",
       "      <td>4,872,137</td>\n",
       "    </tr>\n",
       "    <tr>\n",
       "      <th>4</th>\n",
       "      <td>4</td>\n",
       "      <td>Germany</td>\n",
       "      <td>3,677,439</td>\n",
       "    </tr>\n",
       "  </tbody>\n",
       "</table>\n",
       "</div>"
      ],
      "text/plain": [
       "  Rank             Country  GDP(US$MM)\n",
       "0    1       United States  19,390,604\n",
       "1       European Union[23]  17,277,698\n",
       "2    2          China[n 4]  12,237,700\n",
       "3    3               Japan   4,872,137\n",
       "4    4             Germany   3,677,439"
      ]
     },
     "execution_count": 20,
     "metadata": {},
     "output_type": "execute_result"
    }
   ],
   "source": [
    "df2.head()"
   ]
  },
  {
   "cell_type": "code",
   "execution_count": 21,
   "id": "46a0f197",
   "metadata": {},
   "outputs": [
    {
     "data": {
      "text/plain": [
       "['Rank', 'Country', 'GDP(US$MM)']"
      ]
     },
     "execution_count": 21,
     "metadata": {},
     "output_type": "execute_result"
    }
   ],
   "source": [
    "header3 = [th.getText().strip() for th in data_tables[2][0].findAll('thead')[0].findAll('th')]\n",
    "header3"
   ]
  },
  {
   "cell_type": "code",
   "execution_count": 22,
   "id": "1852ea2b",
   "metadata": {},
   "outputs": [],
   "source": [
    "rows3 = data_tables[2][0].findAll('tbody')[0].findAll('tr')[1:]"
   ]
  },
  {
   "cell_type": "code",
   "execution_count": 23,
   "id": "bc573bcc",
   "metadata": {},
   "outputs": [],
   "source": [
    "data_rows3 = [[find_right_text(i, td) for i, td in enumerate(tr.findAll('td'))] for tr in rows2]"
   ]
  },
  {
   "cell_type": "code",
   "execution_count": 24,
   "id": "e24d8e80",
   "metadata": {},
   "outputs": [
    {
     "data": {
      "text/html": [
       "<div>\n",
       "<style scoped>\n",
       "    .dataframe tbody tr th:only-of-type {\n",
       "        vertical-align: middle;\n",
       "    }\n",
       "\n",
       "    .dataframe tbody tr th {\n",
       "        vertical-align: top;\n",
       "    }\n",
       "\n",
       "    .dataframe thead th {\n",
       "        text-align: right;\n",
       "    }\n",
       "</style>\n",
       "<table border=\"1\" class=\"dataframe\">\n",
       "  <thead>\n",
       "    <tr style=\"text-align: right;\">\n",
       "      <th></th>\n",
       "      <th>Rank</th>\n",
       "      <th>Country</th>\n",
       "      <th>GDP(US$MM)</th>\n",
       "    </tr>\n",
       "  </thead>\n",
       "  <tbody>\n",
       "    <tr>\n",
       "      <th>0</th>\n",
       "      <td>1</td>\n",
       "      <td>United States</td>\n",
       "      <td>19,390,604</td>\n",
       "    </tr>\n",
       "    <tr>\n",
       "      <th>1</th>\n",
       "      <td></td>\n",
       "      <td>European Union[23]</td>\n",
       "      <td>17,277,698</td>\n",
       "    </tr>\n",
       "    <tr>\n",
       "      <th>2</th>\n",
       "      <td>2</td>\n",
       "      <td>China[n 4]</td>\n",
       "      <td>12,237,700</td>\n",
       "    </tr>\n",
       "    <tr>\n",
       "      <th>3</th>\n",
       "      <td>3</td>\n",
       "      <td>Japan</td>\n",
       "      <td>4,872,137</td>\n",
       "    </tr>\n",
       "    <tr>\n",
       "      <th>4</th>\n",
       "      <td>4</td>\n",
       "      <td>Germany</td>\n",
       "      <td>3,677,439</td>\n",
       "    </tr>\n",
       "  </tbody>\n",
       "</table>\n",
       "</div>"
      ],
      "text/plain": [
       "  Rank             Country  GDP(US$MM)\n",
       "0    1       United States  19,390,604\n",
       "1       European Union[23]  17,277,698\n",
       "2    2          China[n 4]  12,237,700\n",
       "3    3               Japan   4,872,137\n",
       "4    4             Germany   3,677,439"
      ]
     },
     "execution_count": 24,
     "metadata": {},
     "output_type": "execute_result"
    }
   ],
   "source": [
    "df3 = pd.DataFrame(data_rows3, columns=header3)\n",
    "df3.head()"
   ]
  },
  {
   "cell_type": "markdown",
   "id": "16e1fa31",
   "metadata": {},
   "source": [
    "Activity 8: Handling Outliers and Missing Data"
   ]
  },
  {
   "cell_type": "code",
   "execution_count": 9,
   "id": "e4dd2b39",
   "metadata": {},
   "outputs": [],
   "source": [
    "import pandas as pd\n",
    "import numpy as np\n",
    "import matplotlib.pyplot as plt\n",
    "\n",
    "%matplotlib inline"
   ]
  },
  {
   "cell_type": "code",
   "execution_count": 15,
   "id": "40047a1c",
   "metadata": {},
   "outputs": [],
   "source": [
    "#Read the visit_data.csv file\n",
    "data = pd.read_csv(\"visit_data.csv\")"
   ]
  },
  {
   "cell_type": "code",
   "execution_count": 17,
   "id": "e316fc0d",
   "metadata": {},
   "outputs": [
    {
     "name": "stdout",
     "output_type": "stream",
     "text": [
      "First name is duplictaed - True\n",
      "Last name is duplictaed - True\n",
      "Email is duplictaed - False\n"
     ]
    }
   ],
   "source": [
    "#Check for duplicates\n",
    "print(\"First name is duplictaed - {}\".format(any(data.first_name.duplicated())))\n",
    "print(\"Last name is duplictaed - {}\".format(any(data.last_name.duplicated())))\n",
    "print(\"Email is duplictaed - {}\".format(any(data.email.duplicated())))"
   ]
  },
  {
   "cell_type": "code",
   "execution_count": 16,
   "id": "973730ef",
   "metadata": {},
   "outputs": [
    {
     "name": "stdout",
     "output_type": "stream",
     "text": [
      "The column Email contains NaN - False \n",
      "The column IP Address contains NaN - False \n",
      "The column Visit contains NaN - True \n"
     ]
    }
   ],
   "source": [
    "#Check if any essential column contains NaN\n",
    "print(\"The column Email contains NaN - %r \" % data.email.isnull().values.any())\n",
    "print(\"The column IP Address contains NaN - %s \" % data.ip_address.isnull().values.any())\n",
    "print(\"The column Visit contains NaN - %s \" % data.visit.isnull().values.any())"
   ]
  },
  {
   "cell_type": "code",
   "execution_count": 18,
   "id": "b7154215",
   "metadata": {},
   "outputs": [],
   "source": [
    "#Get rid of the outliers\n",
    "size_prev = data.shape\n",
    "data = data[np.isfinite(df['visit'])]\n",
    "size_after = data.shape"
   ]
  },
  {
   "cell_type": "code",
   "execution_count": 19,
   "id": "7cbdfad0",
   "metadata": {},
   "outputs": [
    {
     "name": "stdout",
     "output_type": "stream",
     "text": [
      "The size of previous data was - 1000 rows and the size of the new one is - 974 rows\n"
     ]
    }
   ],
   "source": [
    "#Report the size difference\n",
    "print(\"The size of previous data was - {prev[0]} rows and the size of the new one is - {after[0]} rows\".\n",
    "      format(prev=size_prev, after=size_after))"
   ]
  },
  {
   "cell_type": "code",
   "execution_count": 20,
   "id": "af9908f7",
   "metadata": {},
   "outputs": [
    {
     "data": {
      "text/plain": [
       "{'whiskers': [<matplotlib.lines.Line2D at 0x22955a0f8e0>,\n",
       "  <matplotlib.lines.Line2D at 0x22955a0fbb0>],\n",
       " 'caps': [<matplotlib.lines.Line2D at 0x22955a0ff40>,\n",
       "  <matplotlib.lines.Line2D at 0x229560cd190>],\n",
       " 'boxes': [<matplotlib.lines.Line2D at 0x22955a0f610>],\n",
       " 'medians': [<matplotlib.lines.Line2D at 0x229560cd460>],\n",
       " 'fliers': [<matplotlib.lines.Line2D at 0x229559f55e0>],\n",
       " 'means': []}"
      ]
     },
     "execution_count": 20,
     "metadata": {},
     "output_type": "execute_result"
    },
    {
     "data": {
      "image/png": "[encoded data removed]",
      "text/plain": [
       "<Figure size 432x288 with 1 Axes>"
      ]
     },
     "metadata": {
      "needs_background": "light"
     },
     "output_type": "display_data"
    }
   ],
   "source": [
    "#Create a box plot to check for outliers\n",
    "plt.boxplot(data.visit, notch=True)"
   ]
  },
  {
   "cell_type": "code",
   "execution_count": 23,
   "id": "19b3a37b",
   "metadata": {},
   "outputs": [],
   "source": [
    "#Get rid of any outliers\n",
    "data1 = data[(data['visit'] <= 2900) & (data['visit'] >= 100)]"
   ]
  },
  {
   "cell_type": "code",
   "execution_count": 24,
   "id": "e5c1e9b6",
   "metadata": {},
   "outputs": [
    {
     "name": "stdout",
     "output_type": "stream",
     "text": [
      "(923, 7)\n"
     ]
    }
   ],
   "source": [
    "print(data1.shape)"
   ]
  },
  {
   "cell_type": "markdown",
   "id": "4be86dc7",
   "metadata": {},
   "source": [
    "Insert data into a SQL Lite database – create a table with the following data below that you will create yourself:\n",
    "a. Name, Address, City, State, Zip, Phone Number\n",
    "b. Add at least 10 rows of data and submit your code with a query generating your results."
   ]
  },
  {
   "cell_type": "code",
   "execution_count": 30,
   "id": "754abb3b",
   "metadata": {},
   "outputs": [],
   "source": [
    "import sqlite3"
   ]
  },
  {
   "cell_type": "code",
   "execution_count": 50,
   "id": "e657952a",
   "metadata": {},
   "outputs": [],
   "source": [
    "#connecting to sqlite\n",
    "conn = sqlite3.connect(\"mypeople.sqlite\")"
   ]
  },
  {
   "cell_type": "code",
   "execution_count": 51,
   "id": "b099eb5b",
   "metadata": {},
   "outputs": [],
   "source": [
    "cursor = conn.cursor()"
   ]
  },
  {
   "cell_type": "code",
   "execution_count": 52,
   "id": "c6b1d726",
   "metadata": {},
   "outputs": [
    {
     "data": {
      "text/plain": [
       "<sqlite3.Cursor at 0x15b92744ce0>"
      ]
     },
     "execution_count": 52,
     "metadata": {},
     "output_type": "execute_result"
    }
   ],
   "source": [
    "cursor.execute(\"\"\"CREATE TABLE mypeople (\n",
    "                   name TEXT,\n",
    "                   address TEXT,\n",
    "                   city TEXT,\n",
    "                   state TEXT,\n",
    "                   zip INTEGER,\n",
    "                   phone TEXT\n",
    "                   )\"\"\")"
   ]
  },
  {
   "cell_type": "code",
   "execution_count": 53,
   "id": "81b6ba3f",
   "metadata": {},
   "outputs": [],
   "source": [
    "all_people = [\n",
    "    ('Mark', '1136 Essex St', 'Coraopolis', 'PA', 15108, '6579794462'),\n",
    "    ('Elvira', '508 Creek St', 'Harrisburg', 'PA', 17109, '7674939682'),\n",
    "    ('Jaime', '333 N. Brandywine St', 'Holbrook', 'NY', 11741, '7544337236'),\n",
    "    ('Harry', '9913 Indian Summer Rd', 'Cedar Rapids', 'IA', 52402, '4752289604'),\n",
    "    ('Virginia', '675 Cherry Hill Court', 'Norwood', 'MA', 12062, '7565988768'),\n",
    "    ('Ella', '29 Pine Lane', 'Hernando', 'MS', 38632, '2126046910'),\n",
    "    ('Carolyn', '850 Myers Dr', 'Lansdowne', 'PA', 19050, '9613361987'),\n",
    "    ('Violet', '8196 San Carlos Lane', 'Cranford', 'NJ', 17016, '3419261087'),\n",
    "    ('Pete', '9069 West White Dr', 'Bear', 'DE', 19701, '3395671530'),\n",
    "    ('Marlene', '80 Littleton St', 'Fond Du Lac', 'WI', 54935, '8338435291'),\n",
    "]"
   ]
  },
  {
   "cell_type": "code",
   "execution_count": 54,
   "id": "0ac57edf",
   "metadata": {},
   "outputs": [
    {
     "data": {
      "text/plain": [
       "<sqlite3.Cursor at 0x15b92744ce0>"
      ]
     },
     "execution_count": 54,
     "metadata": {},
     "output_type": "execute_result"
    }
   ],
   "source": [
    "cursor.executemany(\"INSERT INTO mypeople VALUES(?, ?, ?, ?, ?, ?)\", all_people)"
   ]
  },
  {
   "cell_type": "code",
   "execution_count": 55,
   "id": "1c94b81a",
   "metadata": {},
   "outputs": [
    {
     "name": "stdout",
     "output_type": "stream",
     "text": [
      "[('Mark', '1136 Essex St', 'Coraopolis', 'PA', 15108, '6579794462'), ('Elvira', '508 Creek St', 'Harrisburg', 'PA', 17109, '7674939682'), ('Jaime', '333 N. Brandywine St', 'Holbrook', 'NY', 11741, '7544337236'), ('Harry', '9913 Indian Summer Rd', 'Cedar Rapids', 'IA', 52402, '4752289604'), ('Virginia', '675 Cherry Hill Court', 'Norwood', 'MA', 12062, '7565988768'), ('Ella', '29 Pine Lane', 'Hernando', 'MS', 38632, '2126046910'), ('Carolyn', '850 Myers Dr', 'Lansdowne', 'PA', 19050, '9613361987'), ('Violet', '8196 San Carlos Lane', 'Cranford', 'NJ', 17016, '3419261087'), ('Pete', '9069 West White Dr', 'Bear', 'DE', 19701, '3395671530'), ('Marlene', '80 Littleton St', 'Fond Du Lac', 'WI', 54935, '8338435291')]\n"
     ]
    }
   ],
   "source": [
    "cursor.execute(\"SELECT * FROM mypeople\")\n",
    "print(cursor.fetchall())"
   ]
  },
  {
   "cell_type": "code",
   "execution_count": 56,
   "id": "92f0af3d",
   "metadata": {},
   "outputs": [],
   "source": [
    "conn.commit()\n",
    "conn.close()"
   ]
  }
 ],
 "metadata": {
  "kernelspec": {
   "display_name": "Python 3 (ipykernel)",
   "language": "python",
   "name": "python3"
  },
  "language_info": {
   "codemirror_mode": {
    "name": "ipython",
    "version": 3
   },
   "file_extension": ".py",
   "mimetype": "text/x-python",
   "name": "python",
   "nbconvert_exporter": "python",
   "pygments_lexer": "ipython3",
   "version": "3.9.12"
  }
 },
 "nbformat": 4,
 "nbformat_minor": 5
}
