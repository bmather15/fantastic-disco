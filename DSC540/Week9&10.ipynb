{
 "cells": [
  {
   "cell_type": "markdown",
   "id": "55ea09d4",
   "metadata": {},
   "source": [
    "Activity 9: Extracting the Top 100 eBooks from Gutenberg"
   ]
  },
  {
   "cell_type": "code",
   "execution_count": 41,
   "id": "c2a3d6c3",
   "metadata": {},
   "outputs": [],
   "source": [
    "#Import the necesssary libraries\n",
    "import urllib.request, urllib.parse, urllib.error\n",
    "import requests\n",
    "from bs4 import BeautifulSoup\n",
    "import ssl\n",
    "import re"
   ]
  },
  {
   "cell_type": "code",
   "execution_count": 3,
   "id": "12bb720e",
   "metadata": {},
   "outputs": [],
   "source": [
    "#Check the SSl certificate\n",
    "ctx = ssl.create_default_context()\n",
    "ctx.check_hostname = False\n",
    "ctx.verify_mode = ssl.CERT_NONE"
   ]
  },
  {
   "cell_type": "code",
   "execution_count": 4,
   "id": "18cdba75",
   "metadata": {},
   "outputs": [],
   "source": [
    "#Read the HTML from the URL\n",
    "top100url = 'https://www.gutenberg.org/browse/scores/top'\n",
    "response = requests.get(top100url)"
   ]
  },
  {
   "cell_type": "code",
   "execution_count": 5,
   "id": "63e7f513",
   "metadata": {},
   "outputs": [],
   "source": [
    "#Write a small function to check the web request\n",
    "def status_check(r):\n",
    "    if r.status_code==200:\n",
    "        print(\"Success!\")\n",
    "        return 1\n",
    "    else:\n",
    "        print(\"Failed!\")\n",
    "        return -1"
   ]
  },
  {
   "cell_type": "code",
   "execution_count": 6,
   "id": "efe9dd21",
   "metadata": {},
   "outputs": [
    {
     "name": "stdout",
     "output_type": "stream",
     "text": [
      "Success!\n"
     ]
    },
    {
     "data": {
      "text/plain": [
       "1"
      ]
     },
     "execution_count": 6,
     "metadata": {},
     "output_type": "execute_result"
    }
   ],
   "source": [
    "status_check(response)"
   ]
  },
  {
   "cell_type": "code",
   "execution_count": 7,
   "id": "f2e32c8a",
   "metadata": {},
   "outputs": [],
   "source": [
    "#Decode the response and pass this on to BeautifulSoup\n",
    "contents = response.content.decode(response.encoding)"
   ]
  },
  {
   "cell_type": "code",
   "execution_count": 8,
   "id": "84d8d120",
   "metadata": {},
   "outputs": [],
   "source": [
    "soup = BeautifulSoup(contents, 'html.parser')"
   ]
  },
  {
   "cell_type": "code",
   "execution_count": 9,
   "id": "8fdec337",
   "metadata": {},
   "outputs": [],
   "source": [
    "#Find all the href tags and store them\n",
    "lst_links=[]"
   ]
  },
  {
   "cell_type": "code",
   "execution_count": 10,
   "id": "bbb307cc",
   "metadata": {},
   "outputs": [],
   "source": [
    "for link in soup.find_all('a'):\n",
    "    #print(link.get('href'))\n",
    "    lst_links.append(link.get('href'))"
   ]
  },
  {
   "cell_type": "code",
   "execution_count": 11,
   "id": "1fd21702",
   "metadata": {},
   "outputs": [
    {
     "data": {
      "text/plain": [
       "['/',\n",
       " '/about/',\n",
       " '/about/',\n",
       " '/policy/collection_development.html',\n",
       " '/about/contact_information.html',\n",
       " '/about/background/',\n",
       " '/policy/permission.html',\n",
       " '/policy/privacy_policy.html',\n",
       " '/policy/terms_of_use.html',\n",
       " '/ebooks/',\n",
       " '/ebooks/',\n",
       " '/ebooks/bookshelf/',\n",
       " '/browse/scores/top',\n",
       " '/ebooks/offline_catalogs.html',\n",
       " '/help/',\n",
       " '/help/',\n",
       " '/help/copyright.html',\n",
       " '/help/errata.html',\n",
       " '/help/file_formats.html',\n",
       " '/help/faq.html',\n",
       " '/policy/',\n",
       " '/help/public_domain_ebook_submission.html',\n",
       " '/help/submitting_your_own_work.html',\n",
       " '/help/mobile.html',\n",
       " '/attic/',\n",
       " '/donate/',\n",
       " '/donate/',\n",
       " '#books-last1',\n",
       " '#authors-last1',\n",
       " '#books-last7']"
      ]
     },
     "execution_count": 11,
     "metadata": {},
     "output_type": "execute_result"
    }
   ],
   "source": [
    "lst_links[:30]"
   ]
  },
  {
   "cell_type": "code",
   "execution_count": 12,
   "id": "e280fee5",
   "metadata": {},
   "outputs": [],
   "source": [
    "#Use a regular expression to find the numeric digits in these links\n",
    "booknum=[]"
   ]
  },
  {
   "cell_type": "code",
   "execution_count": 13,
   "id": "78b775ea",
   "metadata": {},
   "outputs": [],
   "source": [
    "for i in range(19,119):\n",
    "    link=lst_links[i]\n",
    "    link=link.strip()\n",
    "    # Regular expression to find the numeric digits in the link (href) string\n",
    "    n=re.findall('[0-9]+',link)\n",
    "    if len(n)==1:\n",
    "        # Append the filenumber casted as integer\n",
    "        booknum.append(int(n[0]))"
   ]
  },
  {
   "cell_type": "code",
   "execution_count": 14,
   "id": "07c8447b",
   "metadata": {},
   "outputs": [
    {
     "name": "stdout",
     "output_type": "stream",
     "text": [
      "\n",
      "The file numbers for the top 100 ebooks on Gutenberg are shown below\n",
      "----------------------------------------------------------------------\n",
      "[1, 1, 7, 7, 30, 30, 17607, 1513, 2641, 145, 37106, 2701, 16389, 100, 67979, 6761, 394, 2160, 4085, 6593, 5197, 1259, 84, 1342, 11, 64317, 1952, 174, 2542, 98, 68891, 1080, 70049, 844, 408, 1661, 345, 70048, 1400, 25344, 5200, 29720, 28054, 1260, 70047, 70051, 4300, 76, 1232, 2591, 219, 2554, 70055, 205, 43, 42108, 1184, 6130, 20228, 46, 5827, 36, 2600, 23, 779, 15399, 70050, 996, 2814, 3207, 1727, 45, 3206, 514, 16328, 74, 1497, 67098, 768, 58585, 120, 55, 10676, 5740, 70045, 244, 30254, 203, 16, 158, 1250, 47629]\n"
     ]
    }
   ],
   "source": [
    "#Print the file numbers\n",
    "print (\"\\nThe file numbers for the top 100 ebooks on Gutenberg are shown below\\n\"+\"-\"*70)\n",
    "print(booknum)"
   ]
  },
  {
   "cell_type": "code",
   "execution_count": 15,
   "id": "9786bd85",
   "metadata": {},
   "outputs": [
    {
     "name": "stdout",
     "output_type": "stream",
     "text": [
      "\n",
      "\n",
      "\n",
      "\n",
      "Top 100 | Project Gutenberg\n",
      "\n",
      "\n",
      "\n",
      "\n",
      "\n",
      "\n",
      "\n",
      "\n",
      "\n",
      "\n",
      "\n",
      "\n",
      "\n",
      "\n",
      "\n",
      "\n",
      "\n",
      "\n",
      "\n",
      "\n",
      "\n",
      "\n",
      "\n",
      "\n",
      "\n",
      "\n",
      "\n",
      "Menu▾\n",
      "\n",
      "\n",
      "\n",
      "About\n",
      "          ▾\n",
      "\n",
      "▾\n",
      "\n",
      "\n",
      "About Project Gutenberg\n",
      "Collection Development\n",
      "Contact Us\n",
      "History & Philosophy\n",
      "Permissions & License\n",
      "Privacy Policy\n",
      "Terms of Use\n",
      "\n",
      "\n",
      "\n",
      "Search and Browse\n",
      "      \t  ▾\n",
      "\n",
      "▾\n",
      "\n",
      "\n",
      "Book Search\n",
      "Bookshelves\n",
      "Frequently Downloaded\n",
      "Offline Catalogs\n",
      "\n",
      "\n",
      "\n",
      "Help\n",
      "          ▾\n",
      "\n",
      "▾\n",
      "\n",
      "\n",
      "All help topics →\n",
      "Copyright Procedures\n",
      "Errata, Fixes and Bug Reports\n",
      "File Formats\n",
      "Frequently Asked Questions\n",
      "Policies →\n",
      "Public Domain eBook Submission\n",
      "Submitting Your Own Work\n",
      "Tablets, Phones and eReaders\n",
      "The Attic →\n",
      "\n",
      "\n",
      "Donate\n",
      "\n",
      "\n",
      "\n",
      "\n",
      "\n",
      "\n",
      "\n",
      "\n",
      "\n",
      "\n",
      "Donation\n",
      "\n",
      "\n",
      "\n",
      "\n",
      "\n",
      "\n",
      "\n",
      "Frequently Viewed or Downloaded\n",
      "These listings are based on the number of times each eBook gets downloaded.\n",
      "      Multiple downloads from the same Internet address on the same day count as one download, and addresses that download more than 100 eBooks in a day are considered robots and are not counted.\n",
      "\n",
      "Downloaded Books\n",
      "2023-02-16279663\n",
      "last 7 days1856361\n",
      "last 30 days8092695\n",
      "\n",
      "\n",
      "\n",
      "Top 100 EBooks yesterday\n",
      "Top 100 Authors yesterday\n",
      "Top 100 EBooks last 7 days\n",
      "Top 100 Authors last 7 days\n",
      "Top 100 EBooks last 30 days\n",
      "Top 100 Authors last 30 days\n",
      "\n",
      "\n",
      "Top 100 EBooks yesterday\n",
      "\n",
      "Superstition In All Ages (1732) by baron d' Paul Henri Thiry Holbach (10993)\n",
      "Romeo and Juliet by William Shakespeare (6468)\n",
      "A Room with a View by E. M.  Forster (5518)\n",
      "Middlemarch by George Eliot (5406)\n",
      "Little Women; Or, Meg, Jo, Beth, and Amy by Louisa May Alcott (5070)\n",
      "Moby Dick; Or, The Whale by Herman Melville (5018)\n",
      "The Enchanted April by Elizabeth Von Arnim (4983)\n",
      "The Complete Works of William Shakespeare by William Shakespeare (4875)\n",
      "The Blue Castle: a novel by L. M.  Montgomery (4864)\n",
      "The Adventures of Ferdinand Count Fathom — Complete by T.  Smollett (4738)\n",
      "Cranford by Elizabeth Cleghorn Gaskell (4711)\n",
      "The Expedition of Humphry Clinker by T.  Smollett (4661)\n",
      "The Adventures of Roderick Random by T.  Smollett (4615)\n",
      "History of Tom Jones, a Foundling by Henry Fielding (4395)\n",
      "My Life — Volume 1 by Richard Wagner (4\n"
     ]
    }
   ],
   "source": [
    "#What does the soup object's text look like?\n",
    "print(soup.text[:2000])"
   ]
  },
  {
   "cell_type": "code",
   "execution_count": 16,
   "id": "b42199f4",
   "metadata": {},
   "outputs": [],
   "source": [
    "#Search the extracted text\n",
    "lst_titles_temp=[]"
   ]
  },
  {
   "cell_type": "code",
   "execution_count": 17,
   "id": "fe5e32b3",
   "metadata": {},
   "outputs": [],
   "source": [
    "#Create a starting index\n",
    "start_idx=soup.text.splitlines().index('Top 100 EBooks yesterday')"
   ]
  },
  {
   "cell_type": "code",
   "execution_count": 19,
   "id": "e9c1aa6b",
   "metadata": {},
   "outputs": [],
   "source": [
    "#Loop 1-100\n",
    "for i in range(100):\n",
    "    lst_titles_temp.append(soup.text.splitlines()[start_idx+2+i])"
   ]
  },
  {
   "cell_type": "code",
   "execution_count": 20,
   "id": "35ace16b",
   "metadata": {},
   "outputs": [],
   "source": [
    "#Use a regular expression to extract only text\n",
    "lst_titles=[]\n",
    "for i in range(100):\n",
    "    id1,id2=re.match('^[a-zA-Z ]*',lst_titles_temp[i]).span()\n",
    "    lst_titles.append(lst_titles_temp[i][id1:id2])"
   ]
  },
  {
   "cell_type": "code",
   "execution_count": 21,
   "id": "641852ed",
   "metadata": {},
   "outputs": [
    {
     "name": "stdout",
     "output_type": "stream",
     "text": [
      "Top \n",
      "Top \n",
      "Top \n",
      "Top \n",
      "\n",
      "\n",
      "Top \n",
      "\n",
      "Superstition In All Ages \n",
      "Romeo and Juliet by William Shakespeare \n",
      "A Room with a View by E\n",
      "Middlemarch by George Eliot \n",
      "Little Women\n",
      "Moby Dick\n",
      "The Enchanted April by Elizabeth Von Arnim \n",
      "The Complete Works of William Shakespeare by William Shakespeare \n",
      "The Blue Castle\n",
      "The Adventures of Ferdinand Count Fathom \n",
      "Cranford by Elizabeth Cleghorn Gaskell \n",
      "The Expedition of Humphry Clinker by T\n",
      "The Adventures of Roderick Random by T\n",
      "History of Tom Jones\n",
      "My Life \n",
      "Twenty Years After by Alexandre Dumas \n",
      "Frankenstein\n",
      "Pride and Prejudice by Jane Austen \n",
      "Alice\n",
      "The Great Gatsby by F\n",
      "The Yellow Wallpaper by Charlotte Perkins Gilman \n",
      "The Picture of Dorian Gray by Oscar Wilde \n",
      "A Doll\n",
      "A Tale of Two Cities by Charles Dickens \n",
      "The alley cat\n",
      "A Modest Proposal by Jonathan Swift \n",
      "Egyptian decorative art \n",
      "The Importance of Being Earnest\n",
      "The Souls of Black Folk by W\n",
      "The Adventures of Sherlock Holmes by Arthur Conan Doyle \n",
      "Dracula by Bram Stoker \n",
      "The great Skene mystery by Bernard Capes \n",
      "Great Expectations by Charles Dickens \n",
      "The Scarlet Letter by Nathaniel Hawthorne \n",
      "Metamorphosis by Franz Kafka \n",
      "Hall of Mirrors by Fredric Brown \n",
      "The Brothers Karamazov by Fyodor Dostoyevsky \n",
      "Jane Eyre\n",
      "The peaceful atom by Bernice Kohn Hunt \n",
      "Gambler\n",
      "Ulysses by James Joyce \n",
      "Adventures of Huckleberry Finn by Mark Twain \n",
      "The Prince by Niccol\n",
      "Grimms\n",
      "Heart of Darkness by Joseph Conrad \n",
      "Crime and Punishment by Fyodor Dostoyevsky \n",
      "Satan\n",
      "Walden\n",
      "The Strange Case of Dr\n",
      "The Slang Dictionary\n",
      "The Count of Monte Cristo\n",
      "The Iliad by Homer \n",
      "Noli Me Tangere by Jos\n",
      "A Christmas Carol in Prose\n",
      "The Problems of Philosophy by Bertrand Russell \n",
      "The War of the Worlds by H\n",
      "War and Peace by graf Leo Tolstoy \n",
      "Narrative of the Life of Frederick Douglass\n",
      "The Tragical History of Doctor Faustus by Christopher Marlowe \n",
      "The Interesting Narrative of the Life of Olaudah Equiano\n",
      "Racehorses in Australia \n",
      "Don Quixote by Miguel de Cervantes Saavedra \n",
      "Dubliners by James Joyce \n",
      "Leviathan by Thomas Hobbes \n",
      "The Odyssey by Homer \n",
      "Anne of Green Gables by L\n",
      "Moby Multiple Language Lists of Common Words by Grady Ward \n",
      "Little Women by Louisa May Alcott \n",
      "Beowulf\n",
      "The Adventures of Tom Sawyer\n",
      "The Republic by Plato \n",
      "Winnie\n",
      "Wuthering Heights by Emily Bront\n",
      "The Prophet by Kahlil Gibran \n",
      "Treasure Island by Robert Louis Stevenson \n",
      "The Wonderful Wizard of Oz by L\n",
      "The Reign of Greed by Jos\n",
      "Tractatus Logico\n",
      "Coloured engravings of heaths\n",
      "A Study in Scarlet by Arthur Conan Doyle \n",
      "The Romance of Lust\n",
      "Uncle Tom\n",
      "Peter Pan by J\n",
      "Emma by Jane Austen \n",
      "Anthem by Ayn Rand \n",
      "Ang \n",
      "Beyond Good and Evil by Friedrich Wilhelm Nietzsche \n",
      "The small bachelor by P\n",
      "Frankenstein\n",
      "Sense and Sensibility by Jane Austen \n",
      "Autobiography of Benjamin Franklin by Benjamin Franklin \n",
      "The Call of the Wild by Jack London \n"
     ]
    }
   ],
   "source": [
    "#Print the list of titles\n",
    "for l in lst_titles:\n",
    "    print(l)"
   ]
  },
  {
   "cell_type": "markdown",
   "id": "9cf38386",
   "metadata": {},
   "source": [
    "Activity 10: Building your own movie database by reading an API"
   ]
  },
  {
   "cell_type": "code",
   "execution_count": 43,
   "id": "f49c9f09",
   "metadata": {},
   "outputs": [],
   "source": [
    "import json"
   ]
  },
  {
   "cell_type": "code",
   "execution_count": 45,
   "id": "c544a93e",
   "metadata": {},
   "outputs": [],
   "source": [
    "#Open the APIkeys.json file\n",
    "with open('APIkeys.json') as f:\n",
    "    keys = json.load(f)\n",
    "    omdbapi = keys['OMDBapi']"
   ]
  },
  {
   "cell_type": "code",
   "execution_count": 46,
   "id": "6e6a7cb6",
   "metadata": {},
   "outputs": [],
   "source": [
    "#Assign the OMDB portal as a string \n",
    "serviceurl = 'http://www.omdbapi.com/?'"
   ]
  },
  {
   "cell_type": "code",
   "execution_count": 47,
   "id": "31d5cf1d",
   "metadata": {},
   "outputs": [],
   "source": [
    "#Create a variable called apikey\n",
    "apikey = '&apikey='+omdbapi"
   ]
  },
  {
   "cell_type": "code",
   "execution_count": 48,
   "id": "606f2ebb",
   "metadata": {},
   "outputs": [],
   "source": [
    "#Write a utility function called print_json to print the movie data from a JSON file\n",
    "def print_json(json_data):\n",
    "    list_keys=['Title', 'Year', 'Rated', 'Released', 'Runtime', 'Genre', 'Director', 'Writer', \n",
    "               'Actors', 'Plot', 'Language', 'Country', 'Awards', 'Ratings', \n",
    "               'Metascore', 'imdbRating', 'imdbVotes', 'imdbID']\n",
    "    print(\"-\"*50)\n",
    "    for k in list_keys:\n",
    "        if k in list(json_data.keys()):\n",
    "            print(f\"{k}: {json_data[k]}\")\n",
    "    print(\"-\"*50)"
   ]
  },
  {
   "cell_type": "code",
   "execution_count": 49,
   "id": "db500904",
   "metadata": {},
   "outputs": [],
   "source": [
    "#Write a utility function to download a poster of the movie\n",
    "def save_poster(json_data):\n",
    "    import os\n",
    "    title = json_data['Title']\n",
    "    poster_url = json_data['Poster']\n",
    "    poster_file_extension=poster_url.split('.')[-1]\n",
    "    poster_data = urllib.request.urlopen(poster_url).read()\n",
    "        \n",
    "    savelocation=os.getcwd()+'\\\\'+'Posters'+'\\\\'\n",
    "    if not os.path.isdir(savelocation):\n",
    "        os.mkdir(savelocation)\n",
    "    \n",
    "    filename=savelocation+str(title)+'.'+poster_file_extension\n",
    "    f=open(filename,'wb')\n",
    "    f.write(poster_data)\n",
    "    f.close()"
   ]
  },
  {
   "cell_type": "code",
   "execution_count": 50,
   "id": "130f01c7",
   "metadata": {},
   "outputs": [],
   "source": [
    "#Write a utility function called search_movie to search a movie by its name\n",
    "def search_movie(title):\n",
    "    try:\n",
    "        url = serviceurl + urllib.parse.urlencode({'t': str(title)})+apikey\n",
    "        print(f'Retrieving the data of \"{title}\" now... ')\n",
    "        print(url)\n",
    "        uh = urllib.request.urlopen(url)\n",
    "        data = uh.read()\n",
    "        json_data=json.loads(data)\n",
    "        \n",
    "        if json_data['Response']=='True':\n",
    "            print_json(json_data)\n",
    "            # Asks user whether to download the poster of the movie\n",
    "            if json_data['Poster']!='N/A':\n",
    "                save_poster(json_data)\n",
    "        else:\n",
    "            print(\"Error encountered: \",json_data['Error'])\n",
    "    \n",
    "    except urllib.error.URLError as e:\n",
    "        print(f\"ERROR: {e.reason}\")"
   ]
  },
  {
   "cell_type": "code",
   "execution_count": 51,
   "id": "e381cdce",
   "metadata": {},
   "outputs": [
    {
     "name": "stdout",
     "output_type": "stream",
     "text": [
      "Retrieving the data of \"Titanic\" now... \n",
      "http://www.omdbapi.com/?t=Titanic&apikey=81231736\n",
      "--------------------------------------------------\n",
      "Title: Titanic\n",
      "Year: 1997\n",
      "Rated: PG-13\n",
      "Released: 19 Dec 1997\n",
      "Runtime: 194 min\n",
      "Genre: Drama, Romance\n",
      "Director: James Cameron\n",
      "Writer: James Cameron\n",
      "Actors: Leonardo DiCaprio, Kate Winslet, Billy Zane\n",
      "Plot: A seventeen-year-old aristocrat falls in love with a kind but poor artist aboard the luxurious, ill-fated R.M.S. Titanic.\n",
      "Language: English, Swedish, Italian, French\n",
      "Country: United States, Mexico\n",
      "Awards: Won 11 Oscars. 126 wins & 83 nominations total\n",
      "Ratings: [{'Source': 'Internet Movie Database', 'Value': '7.9/10'}, {'Source': 'Rotten Tomatoes', 'Value': '88%'}, {'Source': 'Metacritic', 'Value': '75/100'}]\n",
      "Metascore: 75\n",
      "imdbRating: 7.9\n",
      "imdbVotes: 1,185,567\n",
      "imdbID: tt0120338\n",
      "--------------------------------------------------\n"
     ]
    }
   ],
   "source": [
    "#Test the search_movie function by entering Titanic\n",
    "search_movie(\"Titanic\")"
   ]
  },
  {
   "cell_type": "code",
   "execution_count": 52,
   "id": "6718427e",
   "metadata": {},
   "outputs": [
    {
     "name": "stdout",
     "output_type": "stream",
     "text": [
      "Retrieving the data of \"Random_error\" now... \n",
      "http://www.omdbapi.com/?t=Random_error&apikey=81231736\n",
      "Error encountered:  Movie not found!\n"
     ]
    }
   ],
   "source": [
    "#Test the search_movie function by entering Random_error\n",
    "search_movie(\"Random_error\")"
   ]
  },
  {
   "cell_type": "markdown",
   "id": "7be6f4bf",
   "metadata": {},
   "source": [
    "3. Connect to the Twitter API and do a simple data pull (Using OpenWeather instead)"
   ]
  },
  {
   "cell_type": "code",
   "execution_count": 21,
   "id": "d1ebaac7",
   "metadata": {},
   "outputs": [],
   "source": [
    "import requests"
   ]
  },
  {
   "cell_type": "code",
   "execution_count": 27,
   "id": "dc9fb478",
   "metadata": {},
   "outputs": [],
   "source": [
    "api_key = \"c863d1ca7edb35ee7f055c815ed452d2\""
   ]
  },
  {
   "cell_type": "code",
   "execution_count": 23,
   "id": "164a7503",
   "metadata": {},
   "outputs": [],
   "source": [
    "base_url = \"https://api.openweathermap.org/data/2.5/weather?\""
   ]
  },
  {
   "cell_type": "code",
   "execution_count": 30,
   "id": "12cb14f3",
   "metadata": {},
   "outputs": [],
   "source": [
    "zip_Code = '68123'"
   ]
  },
  {
   "cell_type": "code",
   "execution_count": 31,
   "id": "d706de95",
   "metadata": {},
   "outputs": [],
   "source": [
    "Url = base_url + \"zip=\" + zip_Code + \",us&appid=\" + api_key"
   ]
  },
  {
   "cell_type": "code",
   "execution_count": 32,
   "id": "f9f4809c",
   "metadata": {},
   "outputs": [],
   "source": [
    "response = requests.get(Url)"
   ]
  },
  {
   "cell_type": "code",
   "execution_count": 36,
   "id": "3281e39b",
   "metadata": {},
   "outputs": [],
   "source": [
    "response2 = response.json()"
   ]
  },
  {
   "cell_type": "code",
   "execution_count": 37,
   "id": "9b36873b",
   "metadata": {},
   "outputs": [
    {
     "data": {
      "text/plain": [
       "{'coord': {'lon': -95.9393, 'lat': 41.1156},\n",
       " 'weather': [{'id': 800,\n",
       "   'main': 'Clear',\n",
       "   'description': 'clear sky',\n",
       "   'icon': '01d'}],\n",
       " 'base': 'stations',\n",
       " 'main': {'temp': 280.83,\n",
       "  'feels_like': 278.82,\n",
       "  'temp_min': 279.15,\n",
       "  'temp_max': 282.29,\n",
       "  'pressure': 1012,\n",
       "  'humidity': 59},\n",
       " 'visibility': 10000,\n",
       " 'wind': {'speed': 3.09, 'deg': 350},\n",
       " 'clouds': {'all': 0},\n",
       " 'dt': 1676837020,\n",
       " 'sys': {'type': 2,\n",
       "  'id': 2022710,\n",
       "  'country': 'US',\n",
       "  'sunrise': 1676812401,\n",
       "  'sunset': 1676851331},\n",
       " 'timezone': -21600,\n",
       " 'id': 0,\n",
       " 'name': 'Bellevue',\n",
       " 'cod': 200}"
      ]
     },
     "execution_count": 37,
     "metadata": {},
     "output_type": "execute_result"
    }
   ],
   "source": [
    "response2"
   ]
  },
  {
   "cell_type": "markdown",
   "id": "00863f63",
   "metadata": {},
   "source": [
    "4. Using one of the datasets provided in Weeks 7 & 8, or a dataset of your own, choose 3 of the following visualizations to complete."
   ]
  },
  {
   "cell_type": "code",
   "execution_count": 39,
   "id": "a68f4495",
   "metadata": {},
   "outputs": [],
   "source": [
    "import pandas as pd\n",
    "import matplotlib.pyplot as plt\n",
    "import numpy as np"
   ]
  },
  {
   "cell_type": "code",
   "execution_count": 4,
   "id": "0a98fd99",
   "metadata": {},
   "outputs": [],
   "source": [
    "data = pd.read_csv('Play by Play data.2022.csv')"
   ]
  },
  {
   "cell_type": "code",
   "execution_count": 7,
   "id": "e57b13ff",
   "metadata": {},
   "outputs": [
    {
     "data": {
      "text/html": [
       "<div>\n",
       "<style scoped>\n",
       "    .dataframe tbody tr th:only-of-type {\n",
       "        vertical-align: middle;\n",
       "    }\n",
       "\n",
       "    .dataframe tbody tr th {\n",
       "        vertical-align: top;\n",
       "    }\n",
       "\n",
       "    .dataframe thead th {\n",
       "        text-align: right;\n",
       "    }\n",
       "</style>\n",
       "<table border=\"1\" class=\"dataframe\">\n",
       "  <thead>\n",
       "    <tr style=\"text-align: right;\">\n",
       "      <th></th>\n",
       "      <th>GameId</th>\n",
       "      <th>GameDate</th>\n",
       "      <th>Quarter</th>\n",
       "      <th>Minute</th>\n",
       "      <th>Second</th>\n",
       "      <th>OffenseTeam</th>\n",
       "      <th>DefenseTeam</th>\n",
       "      <th>Down</th>\n",
       "      <th>ToGo</th>\n",
       "      <th>YardLine</th>\n",
       "      <th>...</th>\n",
       "      <th>IsTwoPointConversion</th>\n",
       "      <th>IsTwoPointConversionSuccessful</th>\n",
       "      <th>RushDirection</th>\n",
       "      <th>YardLineFixed</th>\n",
       "      <th>YardLineDirection</th>\n",
       "      <th>IsPenaltyAccepted</th>\n",
       "      <th>PenaltyTeam</th>\n",
       "      <th>IsNoPlay</th>\n",
       "      <th>PenaltyType</th>\n",
       "      <th>PenaltyYards</th>\n",
       "    </tr>\n",
       "  </thead>\n",
       "  <tbody>\n",
       "    <tr>\n",
       "      <th>0</th>\n",
       "      <td>2022090800</td>\n",
       "      <td>9/8/2022</td>\n",
       "      <td>2</td>\n",
       "      <td>2</td>\n",
       "      <td>0</td>\n",
       "      <td>NaN</td>\n",
       "      <td>NaN</td>\n",
       "      <td>0</td>\n",
       "      <td>0</td>\n",
       "      <td>100</td>\n",
       "      <td>...</td>\n",
       "      <td>0</td>\n",
       "      <td>0</td>\n",
       "      <td>NaN</td>\n",
       "      <td>0</td>\n",
       "      <td>OPP</td>\n",
       "      <td>0</td>\n",
       "      <td>NaN</td>\n",
       "      <td>0</td>\n",
       "      <td>NaN</td>\n",
       "      <td>0</td>\n",
       "    </tr>\n",
       "    <tr>\n",
       "      <th>1</th>\n",
       "      <td>2022090800</td>\n",
       "      <td>9/8/2022</td>\n",
       "      <td>4</td>\n",
       "      <td>0</td>\n",
       "      <td>51</td>\n",
       "      <td>NaN</td>\n",
       "      <td>NaN</td>\n",
       "      <td>0</td>\n",
       "      <td>0</td>\n",
       "      <td>100</td>\n",
       "      <td>...</td>\n",
       "      <td>0</td>\n",
       "      <td>0</td>\n",
       "      <td>NaN</td>\n",
       "      <td>0</td>\n",
       "      <td>OPP</td>\n",
       "      <td>0</td>\n",
       "      <td>NaN</td>\n",
       "      <td>0</td>\n",
       "      <td>NaN</td>\n",
       "      <td>0</td>\n",
       "    </tr>\n",
       "    <tr>\n",
       "      <th>2</th>\n",
       "      <td>2022091102</td>\n",
       "      <td>9/11/2022</td>\n",
       "      <td>2</td>\n",
       "      <td>10</td>\n",
       "      <td>17</td>\n",
       "      <td>SF</td>\n",
       "      <td>CHI</td>\n",
       "      <td>2</td>\n",
       "      <td>6</td>\n",
       "      <td>94</td>\n",
       "      <td>...</td>\n",
       "      <td>0</td>\n",
       "      <td>0</td>\n",
       "      <td>RIGHT END</td>\n",
       "      <td>6</td>\n",
       "      <td>OPP</td>\n",
       "      <td>0</td>\n",
       "      <td>NaN</td>\n",
       "      <td>0</td>\n",
       "      <td>NaN</td>\n",
       "      <td>0</td>\n",
       "    </tr>\n",
       "    <tr>\n",
       "      <th>3</th>\n",
       "      <td>2022091102</td>\n",
       "      <td>9/11/2022</td>\n",
       "      <td>2</td>\n",
       "      <td>4</td>\n",
       "      <td>42</td>\n",
       "      <td>NaN</td>\n",
       "      <td>NaN</td>\n",
       "      <td>0</td>\n",
       "      <td>0</td>\n",
       "      <td>100</td>\n",
       "      <td>...</td>\n",
       "      <td>0</td>\n",
       "      <td>0</td>\n",
       "      <td>NaN</td>\n",
       "      <td>0</td>\n",
       "      <td>OPP</td>\n",
       "      <td>0</td>\n",
       "      <td>NaN</td>\n",
       "      <td>0</td>\n",
       "      <td>NaN</td>\n",
       "      <td>0</td>\n",
       "    </tr>\n",
       "    <tr>\n",
       "      <th>4</th>\n",
       "      <td>2022091102</td>\n",
       "      <td>9/11/2022</td>\n",
       "      <td>2</td>\n",
       "      <td>2</td>\n",
       "      <td>17</td>\n",
       "      <td>CHI</td>\n",
       "      <td>SF</td>\n",
       "      <td>1</td>\n",
       "      <td>10</td>\n",
       "      <td>53</td>\n",
       "      <td>...</td>\n",
       "      <td>0</td>\n",
       "      <td>0</td>\n",
       "      <td>RIGHT TACKLE</td>\n",
       "      <td>47</td>\n",
       "      <td>OPP</td>\n",
       "      <td>0</td>\n",
       "      <td>NaN</td>\n",
       "      <td>0</td>\n",
       "      <td>NaN</td>\n",
       "      <td>0</td>\n",
       "    </tr>\n",
       "    <tr>\n",
       "      <th>...</th>\n",
       "      <td>...</td>\n",
       "      <td>...</td>\n",
       "      <td>...</td>\n",
       "      <td>...</td>\n",
       "      <td>...</td>\n",
       "      <td>...</td>\n",
       "      <td>...</td>\n",
       "      <td>...</td>\n",
       "      <td>...</td>\n",
       "      <td>...</td>\n",
       "      <td>...</td>\n",
       "      <td>...</td>\n",
       "      <td>...</td>\n",
       "      <td>...</td>\n",
       "      <td>...</td>\n",
       "      <td>...</td>\n",
       "      <td>...</td>\n",
       "      <td>...</td>\n",
       "      <td>...</td>\n",
       "      <td>...</td>\n",
       "      <td>...</td>\n",
       "    </tr>\n",
       "    <tr>\n",
       "      <th>38593</th>\n",
       "      <td>2022091101</td>\n",
       "      <td>9/11/2022</td>\n",
       "      <td>1</td>\n",
       "      <td>6</td>\n",
       "      <td>45</td>\n",
       "      <td>CLE</td>\n",
       "      <td>CAR</td>\n",
       "      <td>1</td>\n",
       "      <td>10</td>\n",
       "      <td>35</td>\n",
       "      <td>...</td>\n",
       "      <td>0</td>\n",
       "      <td>0</td>\n",
       "      <td>RIGHT TACKLE</td>\n",
       "      <td>35</td>\n",
       "      <td>OWN</td>\n",
       "      <td>1</td>\n",
       "      <td>CLE</td>\n",
       "      <td>1</td>\n",
       "      <td>OFFENSIVE HOLDING</td>\n",
       "      <td>10</td>\n",
       "    </tr>\n",
       "    <tr>\n",
       "      <th>38594</th>\n",
       "      <td>2022091101</td>\n",
       "      <td>9/11/2022</td>\n",
       "      <td>1</td>\n",
       "      <td>6</td>\n",
       "      <td>52</td>\n",
       "      <td>CAR</td>\n",
       "      <td>CLE</td>\n",
       "      <td>4</td>\n",
       "      <td>14</td>\n",
       "      <td>32</td>\n",
       "      <td>...</td>\n",
       "      <td>0</td>\n",
       "      <td>0</td>\n",
       "      <td>NaN</td>\n",
       "      <td>32</td>\n",
       "      <td>OWN</td>\n",
       "      <td>0</td>\n",
       "      <td>NaN</td>\n",
       "      <td>0</td>\n",
       "      <td>NaN</td>\n",
       "      <td>0</td>\n",
       "    </tr>\n",
       "    <tr>\n",
       "      <th>38595</th>\n",
       "      <td>2022091101</td>\n",
       "      <td>9/11/2022</td>\n",
       "      <td>1</td>\n",
       "      <td>9</td>\n",
       "      <td>17</td>\n",
       "      <td>CAR</td>\n",
       "      <td>CLE</td>\n",
       "      <td>1</td>\n",
       "      <td>10</td>\n",
       "      <td>36</td>\n",
       "      <td>...</td>\n",
       "      <td>0</td>\n",
       "      <td>0</td>\n",
       "      <td>CENTER</td>\n",
       "      <td>36</td>\n",
       "      <td>OWN</td>\n",
       "      <td>0</td>\n",
       "      <td>NaN</td>\n",
       "      <td>0</td>\n",
       "      <td>NaN</td>\n",
       "      <td>0</td>\n",
       "    </tr>\n",
       "    <tr>\n",
       "      <th>38596</th>\n",
       "      <td>2022090800</td>\n",
       "      <td>9/8/2022</td>\n",
       "      <td>3</td>\n",
       "      <td>0</td>\n",
       "      <td>33</td>\n",
       "      <td>BUF</td>\n",
       "      <td>LA</td>\n",
       "      <td>2</td>\n",
       "      <td>10</td>\n",
       "      <td>44</td>\n",
       "      <td>...</td>\n",
       "      <td>0</td>\n",
       "      <td>0</td>\n",
       "      <td>CENTER</td>\n",
       "      <td>44</td>\n",
       "      <td>OWN</td>\n",
       "      <td>0</td>\n",
       "      <td>NaN</td>\n",
       "      <td>0</td>\n",
       "      <td>NaN</td>\n",
       "      <td>0</td>\n",
       "    </tr>\n",
       "    <tr>\n",
       "      <th>38597</th>\n",
       "      <td>2022090800</td>\n",
       "      <td>9/8/2022</td>\n",
       "      <td>3</td>\n",
       "      <td>0</td>\n",
       "      <td>37</td>\n",
       "      <td>BUF</td>\n",
       "      <td>LA</td>\n",
       "      <td>1</td>\n",
       "      <td>10</td>\n",
       "      <td>44</td>\n",
       "      <td>...</td>\n",
       "      <td>0</td>\n",
       "      <td>0</td>\n",
       "      <td>NaN</td>\n",
       "      <td>44</td>\n",
       "      <td>OWN</td>\n",
       "      <td>0</td>\n",
       "      <td>NaN</td>\n",
       "      <td>0</td>\n",
       "      <td>NaN</td>\n",
       "      <td>0</td>\n",
       "    </tr>\n",
       "  </tbody>\n",
       "</table>\n",
       "<p>38598 rows × 45 columns</p>\n",
       "</div>"
      ],
      "text/plain": [
       "           GameId   GameDate  Quarter  Minute  Second OffenseTeam DefenseTeam  \\\n",
       "0      2022090800   9/8/2022        2       2       0         NaN         NaN   \n",
       "1      2022090800   9/8/2022        4       0      51         NaN         NaN   \n",
       "2      2022091102  9/11/2022        2      10      17          SF         CHI   \n",
       "3      2022091102  9/11/2022        2       4      42         NaN         NaN   \n",
       "4      2022091102  9/11/2022        2       2      17         CHI          SF   \n",
       "...           ...        ...      ...     ...     ...         ...         ...   \n",
       "38593  2022091101  9/11/2022        1       6      45         CLE         CAR   \n",
       "38594  2022091101  9/11/2022        1       6      52         CAR         CLE   \n",
       "38595  2022091101  9/11/2022        1       9      17         CAR         CLE   \n",
       "38596  2022090800   9/8/2022        3       0      33         BUF          LA   \n",
       "38597  2022090800   9/8/2022        3       0      37         BUF          LA   \n",
       "\n",
       "       Down  ToGo  YardLine  ...  IsTwoPointConversion  \\\n",
       "0         0     0       100  ...                     0   \n",
       "1         0     0       100  ...                     0   \n",
       "2         2     6        94  ...                     0   \n",
       "3         0     0       100  ...                     0   \n",
       "4         1    10        53  ...                     0   \n",
       "...     ...   ...       ...  ...                   ...   \n",
       "38593     1    10        35  ...                     0   \n",
       "38594     4    14        32  ...                     0   \n",
       "38595     1    10        36  ...                     0   \n",
       "38596     2    10        44  ...                     0   \n",
       "38597     1    10        44  ...                     0   \n",
       "\n",
       "       IsTwoPointConversionSuccessful  RushDirection  YardLineFixed  \\\n",
       "0                                   0            NaN              0   \n",
       "1                                   0            NaN              0   \n",
       "2                                   0      RIGHT END              6   \n",
       "3                                   0            NaN              0   \n",
       "4                                   0   RIGHT TACKLE             47   \n",
       "...                               ...            ...            ...   \n",
       "38593                               0   RIGHT TACKLE             35   \n",
       "38594                               0            NaN             32   \n",
       "38595                               0         CENTER             36   \n",
       "38596                               0         CENTER             44   \n",
       "38597                               0            NaN             44   \n",
       "\n",
       "      YardLineDirection  IsPenaltyAccepted  PenaltyTeam  IsNoPlay  \\\n",
       "0                   OPP                  0          NaN         0   \n",
       "1                   OPP                  0          NaN         0   \n",
       "2                   OPP                  0          NaN         0   \n",
       "3                   OPP                  0          NaN         0   \n",
       "4                   OPP                  0          NaN         0   \n",
       "...                 ...                ...          ...       ...   \n",
       "38593               OWN                  1          CLE         1   \n",
       "38594               OWN                  0          NaN         0   \n",
       "38595               OWN                  0          NaN         0   \n",
       "38596               OWN                  0          NaN         0   \n",
       "38597               OWN                  0          NaN         0   \n",
       "\n",
       "             PenaltyType  PenaltyYards  \n",
       "0                    NaN             0  \n",
       "1                    NaN             0  \n",
       "2                    NaN             0  \n",
       "3                    NaN             0  \n",
       "4                    NaN             0  \n",
       "...                  ...           ...  \n",
       "38593  OFFENSIVE HOLDING            10  \n",
       "38594                NaN             0  \n",
       "38595                NaN             0  \n",
       "38596                NaN             0  \n",
       "38597                NaN             0  \n",
       "\n",
       "[38598 rows x 45 columns]"
      ]
     },
     "execution_count": 7,
     "metadata": {},
     "output_type": "execute_result"
    }
   ],
   "source": [
    "data"
   ]
  },
  {
   "cell_type": "code",
   "execution_count": 8,
   "id": "2d2cdd88",
   "metadata": {},
   "outputs": [
    {
     "data": {
      "image/png": "[encoded data removed]",
      "text/plain": [
       "<Figure size 432x288 with 1 Axes>"
      ]
     },
     "metadata": {
      "needs_background": "light"
     },
     "output_type": "display_data"
    }
   ],
   "source": [
    "#Line plot\n",
    "line = data.plot.line(x='Down', y='ToGo')"
   ]
  },
  {
   "cell_type": "code",
   "execution_count": 9,
   "id": "4423acf2",
   "metadata": {},
   "outputs": [
    {
     "data": {
      "image/png": "[encoded data removed]",
      "text/plain": [
       "<Figure size 432x288 with 1 Axes>"
      ]
     },
     "metadata": {
      "needs_background": "light"
     },
     "output_type": "display_data"
    }
   ],
   "source": [
    "#Scatter plot\n",
    "scatter = data.plot.scatter(x='Down', y='ToGo')"
   ]
  },
  {
   "cell_type": "code",
   "execution_count": 40,
   "id": "8d33c070",
   "metadata": {},
   "outputs": [
    {
     "data": {
      "image/png": "[encoded data removed]",
      "text/plain": [
       "<Figure size 432x288 with 1 Axes>"
      ]
     },
     "metadata": {
      "needs_background": "light"
     },
     "output_type": "display_data"
    }
   ],
   "source": [
    "#Bar plot\n",
    "bar = data.plot.bar(x='Down', y='ToGo')"
   ]
  },
  {
   "cell_type": "code",
   "execution_count": null,
   "id": "e5d0a333",
   "metadata": {},
   "outputs": [],
   "source": []
  }
 ],
 "metadata": {
  "kernelspec": {
   "display_name": "Python 3 (ipykernel)",
   "language": "python",
   "name": "python3"
  },
  "language_info": {
   "codemirror_mode": {
    "name": "ipython",
    "version": 3
   },
   "file_extension": ".py",
   "mimetype": "text/x-python",
   "name": "python",
   "nbconvert_exporter": "python",
   "pygments_lexer": "ipython3",
   "version": "3.9.12"
  }
 },
 "nbformat": 4,
 "nbformat_minor": 5
}
