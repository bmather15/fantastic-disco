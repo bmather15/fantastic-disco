{
 "cells": [
  {
   "cell_type": "markdown",
   "id": "9f0f9428",
   "metadata": {},
   "source": [
    "Activity 9: Extracting the Top 100 eBooks from Gutenberg"
   ]
  },
  {
   "cell_type": "code",
   "execution_count": 2,
   "id": "e85eef24",
   "metadata": {},
   "outputs": [],
   "source": [
    "#Import the necesssary libraries\n",
    "import urllib.request, urllib.parse, urllib.error\n",
    "import requests\n",
    "from bs4 import BeautifulSoup\n",
    "import ssl\n",
    "import re"
   ]
  },
  {
   "cell_type": "code",
   "execution_count": 3,
   "id": "c3a5548b",
   "metadata": {},
   "outputs": [],
   "source": [
    "#Check the SSl certificate\n",
    "ctx = ssl.create_default_context()\n",
    "ctx.check_hostname = False\n",
    "ctx.verify_mode = ssl.CERT_NONE"
   ]
  },
  {
   "cell_type": "code",
   "execution_count": 4,
   "id": "b0ad101d",
   "metadata": {},
   "outputs": [],
   "source": [
    "#Read the HTML from the URL\n",
    "top100url = 'https://www.gutenberg.org/browse/scores/top'\n",
    "response = requests.get(top100url)"
   ]
  },
  {
   "cell_type": "code",
   "execution_count": 5,
   "id": "31ae61df",
   "metadata": {},
   "outputs": [],
   "source": [
    "#Write a small function to check the web request\n",
    "def status_check(r):\n",
    "    if r.status_code==200:\n",
    "        print(\"Success!\")\n",
    "        return 1\n",
    "    else:\n",
    "        print(\"Failed!\")\n",
    "        return -1"
   ]
  },
  {
   "cell_type": "code",
   "execution_count": 6,
   "id": "c2141561",
   "metadata": {},
   "outputs": [
    {
     "name": "stdout",
     "output_type": "stream",
     "text": [
      "Success!\n"
     ]
    },
    {
     "data": {
      "text/plain": [
       "1"
      ]
     },
     "execution_count": 6,
     "metadata": {},
     "output_type": "execute_result"
    }
   ],
   "source": [
    "status_check(response)"
   ]
  },
  {
   "cell_type": "code",
   "execution_count": 7,
   "id": "17ab62e9",
   "metadata": {},
   "outputs": [],
   "source": [
    "#Decode the response and pass this on to BeautifulSoup\n",
    "contents = response.content.decode(response.encoding)"
   ]
  },
  {
   "cell_type": "code",
   "execution_count": 8,
   "id": "e837d78c",
   "metadata": {},
   "outputs": [],
   "source": [
    "soup = BeautifulSoup(contents, 'html.parser')"
   ]
  },
  {
   "cell_type": "code",
   "execution_count": 9,
   "id": "a8682968",
   "metadata": {},
   "outputs": [],
   "source": [
    "#Find all the href tags and store them\n",
    "lst_links=[]"
   ]
  },
  {
   "cell_type": "code",
   "execution_count": 10,
   "id": "a9fa9120",
   "metadata": {},
   "outputs": [],
   "source": [
    "for link in soup.find_all('a'):\n",
    "    #print(link.get('href'))\n",
    "    lst_links.append(link.get('href'))"
   ]
  },
  {
   "cell_type": "code",
   "execution_count": 11,
   "id": "cd07870b",
   "metadata": {},
   "outputs": [
    {
     "data": {
      "text/plain": [
       "['/',\n",
       " '/about/',\n",
       " '/about/',\n",
       " '/policy/collection_development.html',\n",
       " '/about/contact_information.html',\n",
       " '/about/background/',\n",
       " '/policy/permission.html',\n",
       " '/policy/privacy_policy.html',\n",
       " '/policy/terms_of_use.html',\n",
       " '/ebooks/',\n",
       " '/ebooks/',\n",
       " '/ebooks/bookshelf/',\n",
       " '/browse/scores/top',\n",
       " '/ebooks/offline_catalogs.html',\n",
       " '/help/',\n",
       " '/help/',\n",
       " '/help/copyright.html',\n",
       " '/help/errata.html',\n",
       " '/help/file_formats.html',\n",
       " '/help/faq.html',\n",
       " '/policy/',\n",
       " '/help/public_domain_ebook_submission.html',\n",
       " '/help/submitting_your_own_work.html',\n",
       " '/help/mobile.html',\n",
       " '/attic/',\n",
       " '/donate/',\n",
       " '/donate/',\n",
       " '#books-last1',\n",
       " '#authors-last1',\n",
       " '#books-last7']"
      ]
     },
     "execution_count": 11,
     "metadata": {},
     "output_type": "execute_result"
    }
   ],
   "source": [
    "lst_links[:30]"
   ]
  },
  {
   "cell_type": "code",
   "execution_count": 12,
   "id": "cba7b1a0",
   "metadata": {},
   "outputs": [],
   "source": [
    "#Use a regular expression to find the numeric digits in these links\n",
    "booknum=[]"
   ]
  },
  {
   "cell_type": "code",
   "execution_count": 13,
   "id": "fe93d999",
   "metadata": {},
   "outputs": [],
   "source": [
    "for i in range(19,119):\n",
    "    link=lst_links[i]\n",
    "    link=link.strip()\n",
    "    # Regular expression to find the numeric digits in the link (href) string\n",
    "    n=re.findall('[0-9]+',link)\n",
    "    if len(n)==1:\n",
    "        # Append the filenumber casted as integer\n",
    "        booknum.append(int(n[0]))"
   ]
  },
  {
   "cell_type": "code",
   "execution_count": 14,
   "id": "681458df",
   "metadata": {},
   "outputs": [
    {
     "name": "stdout",
     "output_type": "stream",
     "text": [
      "\n",
      "The file numbers for the top 100 ebooks on Gutenberg are shown below\n",
      "----------------------------------------------------------------------\n",
      "[1, 1, 7, 7, 30, 30, 17607, 1513, 2641, 145, 37106, 2701, 16389, 100, 67979, 6761, 394, 2160, 4085, 6593, 5197, 1259, 84, 1342, 11, 64317, 1952, 174, 2542, 98, 68891, 1080, 70049, 844, 408, 1661, 345, 70048, 1400, 25344, 5200, 29720, 28054, 1260, 70047, 70051, 4300, 76, 1232, 2591, 219, 2554, 70055, 205, 43, 42108, 1184, 6130, 20228, 46, 5827, 36, 2600, 23, 779, 15399, 70050, 996, 2814, 3207, 1727, 45, 3206, 514, 16328, 74, 1497, 67098, 768, 58585, 120, 55, 10676, 5740, 70045, 244, 30254, 203, 16, 158, 1250, 47629]\n"
     ]
    }
   ],
   "source": [
    "#Print the file numbers\n",
    "print (\"\\nThe file numbers for the top 100 ebooks on Gutenberg are shown below\\n\"+\"-\"*70)\n",
    "print(booknum)"
   ]
  },
  {
   "cell_type": "code",
   "execution_count": 15,
   "id": "9d91e87f",
   "metadata": {},
   "outputs": [
    {
     "name": "stdout",
     "output_type": "stream",
     "text": [
      "\n",
      "\n",
      "\n",
      "\n",
      "Top 100 | Project Gutenberg\n",
      "\n",
      "\n",
      "\n",
      "\n",
      "\n",
      "\n",
      "\n",
      "\n",
      "\n",
      "\n",
      "\n",
      "\n",
      "\n",
      "\n",
      "\n",
      "\n",
      "\n",
      "\n",
      "\n",
      "\n",
      "\n",
      "\n",
      "\n",
      "\n",
      "\n",
      "\n",
      "\n",
      "Menu▾\n",
      "\n",
      "\n",
      "\n",
      "About\n",
      "          ▾\n",
      "\n",
      "▾\n",
      "\n",
      "\n",
      "About Project Gutenberg\n",
      "Collection Development\n",
      "Contact Us\n",
      "History & Philosophy\n",
      "Permissions & License\n",
      "Privacy Policy\n",
      "Terms of Use\n",
      "\n",
      "\n",
      "\n",
      "Search and Browse\n",
      "      \t  ▾\n",
      "\n",
      "▾\n",
      "\n",
      "\n",
      "Book Search\n",
      "Bookshelves\n",
      "Frequently Downloaded\n",
      "Offline Catalogs\n",
      "\n",
      "\n",
      "\n",
      "Help\n",
      "          ▾\n",
      "\n",
      "▾\n",
      "\n",
      "\n",
      "All help topics →\n",
      "Copyright Procedures\n",
      "Errata, Fixes and Bug Reports\n",
      "File Formats\n",
      "Frequently Asked Questions\n",
      "Policies →\n",
      "Public Domain eBook Submission\n",
      "Submitting Your Own Work\n",
      "Tablets, Phones and eReaders\n",
      "The Attic →\n",
      "\n",
      "\n",
      "Donate\n",
      "\n",
      "\n",
      "\n",
      "\n",
      "\n",
      "\n",
      "\n",
      "\n",
      "\n",
      "\n",
      "Donation\n",
      "\n",
      "\n",
      "\n",
      "\n",
      "\n",
      "\n",
      "\n",
      "Frequently Viewed or Downloaded\n",
      "These listings are based on the number of times each eBook gets downloaded.\n",
      "      Multiple downloads from the same Internet address on the same day count as one download, and addresses that download more than 100 eBooks in a day are considered robots and are not counted.\n",
      "\n",
      "Downloaded Books\n",
      "2023-02-16279663\n",
      "last 7 days1856361\n",
      "last 30 days8092695\n",
      "\n",
      "\n",
      "\n",
      "Top 100 EBooks yesterday\n",
      "Top 100 Authors yesterday\n",
      "Top 100 EBooks last 7 days\n",
      "Top 100 Authors last 7 days\n",
      "Top 100 EBooks last 30 days\n",
      "Top 100 Authors last 30 days\n",
      "\n",
      "\n",
      "Top 100 EBooks yesterday\n",
      "\n",
      "Superstition In All Ages (1732) by baron d' Paul Henri Thiry Holbach (10993)\n",
      "Romeo and Juliet by William Shakespeare (6468)\n",
      "A Room with a View by E. M.  Forster (5518)\n",
      "Middlemarch by George Eliot (5406)\n",
      "Little Women; Or, Meg, Jo, Beth, and Amy by Louisa May Alcott (5070)\n",
      "Moby Dick; Or, The Whale by Herman Melville (5018)\n",
      "The Enchanted April by Elizabeth Von Arnim (4983)\n",
      "The Complete Works of William Shakespeare by William Shakespeare (4875)\n",
      "The Blue Castle: a novel by L. M.  Montgomery (4864)\n",
      "The Adventures of Ferdinand Count Fathom — Complete by T.  Smollett (4738)\n",
      "Cranford by Elizabeth Cleghorn Gaskell (4711)\n",
      "The Expedition of Humphry Clinker by T.  Smollett (4661)\n",
      "The Adventures of Roderick Random by T.  Smollett (4615)\n",
      "History of Tom Jones, a Foundling by Henry Fielding (4395)\n",
      "My Life — Volume 1 by Richard Wagner (4\n"
     ]
    }
   ],
   "source": [
    "#What does the soup object's text look like?\n",
    "print(soup.text[:2000])"
   ]
  },
  {
   "cell_type": "code",
   "execution_count": 16,
   "id": "3d12a049",
   "metadata": {},
   "outputs": [],
   "source": [
    "#Search the extracted text\n",
    "lst_titles_temp=[]"
   ]
  },
  {
   "cell_type": "code",
   "execution_count": 17,
   "id": "00627366",
   "metadata": {},
   "outputs": [],
   "source": [
    "#Create a starting index\n",
    "start_idx=soup.text.splitlines().index('Top 100 EBooks yesterday')"
   ]
  },
  {
   "cell_type": "code",
   "execution_count": 19,
   "id": "fc7a0d39",
   "metadata": {},
   "outputs": [],
   "source": [
    "#Loop 1-100\n",
    "for i in range(100):\n",
    "    lst_titles_temp.append(soup.text.splitlines()[start_idx+2+i])"
   ]
  },
  {
   "cell_type": "code",
   "execution_count": null,
   "id": "8e744610",
   "metadata": {},
   "outputs": [],
   "source": []
  }
 ],
 "metadata": {
  "kernelspec": {
   "display_name": "Python 3 (ipykernel)",
   "language": "python",
   "name": "python3"
  },
  "language_info": {
   "codemirror_mode": {
    "name": "ipython",
    "version": 3
   },
   "file_extension": ".py",
   "mimetype": "text/x-python",
   "name": "python",
   "nbconvert_exporter": "python",
   "pygments_lexer": "ipython3",
   "version": "3.9.12"
  }
 },
 "nbformat": 4,
 "nbformat_minor": 5
}
