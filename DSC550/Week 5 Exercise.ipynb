{
 "cells": [
  {
   "cell_type": "markdown",
   "id": "c2d2d4ad",
   "metadata": {},
   "source": [
    "Week 5: Brandon Mather DSC550-T301"
   ]
  },
  {
   "cell_type": "code",
   "execution_count": 1,
   "id": "3844ced6",
   "metadata": {},
   "outputs": [],
   "source": [
    "import pandas as pd\n",
    "import numpy as np\n",
    "import unicodedata\n",
    "import sys\n",
    "from nltk.corpus import stopwords\n",
    "from nltk.stem.porter import PorterStemmer\n",
    "from sklearn.feature_extraction.text import CountVectorizer\n",
    "from sklearn.feature_extraction import DictVectorizer\n",
    "from sklearn.feature_extraction.text import TfidfVectorizer\n",
    "from sklearn.model_selection import train_test_split\n",
    "from sklearn.linear_model import LogisticRegression\n",
    "from sklearn.metrics import confusion_matrix\n",
    "from sklearn.metrics import accuracy_score"
   ]
  },
  {
   "cell_type": "code",
   "execution_count": 2,
   "id": "62d94838",
   "metadata": {},
   "outputs": [],
   "source": [
    "#1 Get the stemmed data using the same process you did in Week 3.\n",
    "data = pd.read_csv(\"labeledTrainData.tsv\", header=0, \\\n",
    "                    delimiter=\"\\t\", quoting=3)"
   ]
  },
  {
   "cell_type": "code",
   "execution_count": 3,
   "id": "061dbe78",
   "metadata": {},
   "outputs": [],
   "source": [
    "review = data[\"review\"]"
   ]
  },
  {
   "cell_type": "code",
   "execution_count": 4,
   "id": "765b204c",
   "metadata": {},
   "outputs": [],
   "source": [
    "def decapitalizer(string: str) -> str:\n",
    "    return string.lower()"
   ]
  },
  {
   "cell_type": "code",
   "execution_count": 5,
   "id": "d200520a",
   "metadata": {},
   "outputs": [],
   "source": [
    "noncapital = [decapitalizer(string) for string in review]"
   ]
  },
  {
   "cell_type": "code",
   "execution_count": 6,
   "id": "3c51c801",
   "metadata": {},
   "outputs": [],
   "source": [
    "punctuation = dict.fromkeys(i for i in range(sys.maxunicode)\n",
    "    if unicodedata.category(chr(i)).startswith('P'))"
   ]
  },
  {
   "cell_type": "code",
   "execution_count": 7,
   "id": "aa0b0b96",
   "metadata": {},
   "outputs": [],
   "source": [
    "noperiods = [string.translate(punctuation) for string in noncapital]"
   ]
  },
  {
   "cell_type": "code",
   "execution_count": 8,
   "id": "2da5903e",
   "metadata": {},
   "outputs": [],
   "source": [
    "stop_words = stopwords.words('english')"
   ]
  },
  {
   "cell_type": "code",
   "execution_count": 9,
   "id": "eb70a369",
   "metadata": {},
   "outputs": [],
   "source": [
    "nostopwords = [word for word in noperiods if word not in stop_words]"
   ]
  },
  {
   "cell_type": "code",
   "execution_count": 10,
   "id": "f1682bf2",
   "metadata": {},
   "outputs": [],
   "source": [
    "porter = PorterStemmer()"
   ]
  },
  {
   "cell_type": "code",
   "execution_count": 11,
   "id": "3ec506b0",
   "metadata": {},
   "outputs": [],
   "source": [
    "appliedstemmer = [porter.stem(word) for word in nostopwords]"
   ]
  },
  {
   "cell_type": "code",
   "execution_count": 13,
   "id": "24d0179f",
   "metadata": {},
   "outputs": [],
   "source": [
    "#2 Split this into a training and test set.\n",
    "x = appliedstemmer\n",
    "y = data.sentiment"
   ]
  },
  {
   "cell_type": "code",
   "execution_count": 15,
   "id": "af4a33eb",
   "metadata": {},
   "outputs": [],
   "source": [
    "x_train, x_test, y_train, y_test = train_test_split(x,y, test_size=0.2)"
   ]
  },
  {
   "cell_type": "code",
   "execution_count": 16,
   "id": "42af2b69",
   "metadata": {},
   "outputs": [],
   "source": [
    "#3 Fit and apply the tf-idf vectorization to the training set.\n",
    "tfidf_vectorizer = TfidfVectorizer()"
   ]
  },
  {
   "cell_type": "code",
   "execution_count": 17,
   "id": "3eba2ed9",
   "metadata": {},
   "outputs": [],
   "source": [
    "tfidf_train = tfidf_vectorizer.fit_transform(x_train)"
   ]
  },
  {
   "cell_type": "code",
   "execution_count": 18,
   "id": "8634bd65",
   "metadata": {},
   "outputs": [],
   "source": [
    "#4 Apply but DO NOT FIT the tf-idf vectorization to the test set (Why?).\n",
    "tfidf_test = tfidf_vectorizer.transform(x_test)"
   ]
  },
  {
   "cell_type": "code",
   "execution_count": 19,
   "id": "98cb13bb",
   "metadata": {},
   "outputs": [],
   "source": [
    "#5 Train a logistic regression using the training data.\n",
    "logit = LogisticRegression()"
   ]
  },
  {
   "cell_type": "code",
   "execution_count": 20,
   "id": "d7dac064",
   "metadata": {
    "scrolled": true
   },
   "outputs": [],
   "source": [
    "model = logit.fit(tfidf_train, y_train)"
   ]
  },
  {
   "cell_type": "code",
   "execution_count": 23,
   "id": "0a936b0b",
   "metadata": {},
   "outputs": [
    {
     "ename": "NameError",
     "evalue": "name 'accuracy_score' is not defined",
     "output_type": "error",
     "traceback": [
      "\u001b[0;31m---------------------------------------------------------------------------\u001b[0m",
      "\u001b[0;31mNameError\u001b[0m                                 Traceback (most recent call last)",
      "Input \u001b[0;32mIn [23]\u001b[0m, in \u001b[0;36m<cell line: 2>\u001b[0;34m()\u001b[0m\n\u001b[1;32m      1\u001b[0m \u001b[38;5;66;03m#6 Find the model accuracy on test set.\u001b[39;00m\n\u001b[0;32m----> 2\u001b[0m score \u001b[38;5;241m=\u001b[39m \u001b[43maccuracy_score\u001b[49m(x_test,y_test)\n",
      "\u001b[0;31mNameError\u001b[0m: name 'accuracy_score' is not defined"
     ]
    }
   ],
   "source": [
    "#6 Find the model accuracy on test set.\n",
    "score = accuracy_score(x_test,y_test)"
   ]
  },
  {
   "cell_type": "code",
   "execution_count": null,
   "id": "c9978a20",
   "metadata": {},
   "outputs": [],
   "source": [
    "pred = model.predict()"
   ]
  },
  {
   "cell_type": "code",
   "execution_count": null,
   "id": "4143e094",
   "metadata": {},
   "outputs": [],
   "source": [
    "#7 Create a confusion matrix for the test set predictions.\n",
    "confusion_matrix(labels_train, pred)"
   ]
  },
  {
   "cell_type": "code",
   "execution_count": null,
   "id": "f5838f54",
   "metadata": {},
   "outputs": [],
   "source": [
    "#8 Get the precision, recall, and F1-score for the test set predictions.\n"
   ]
  },
  {
   "cell_type": "code",
   "execution_count": null,
   "id": "66e533af",
   "metadata": {},
   "outputs": [],
   "source": [
    "#9 Create a ROC curve for the test set.\n"
   ]
  },
  {
   "cell_type": "code",
   "execution_count": null,
   "id": "f0673e2e",
   "metadata": {},
   "outputs": [],
   "source": [
    "#10 Pick another classification model you learned about this week and repeat steps (5) – (9)."
   ]
  }
 ],
 "metadata": {
  "kernelspec": {
   "display_name": "Python 3 (ipykernel)",
   "language": "python",
   "name": "python3"
  },
  "language_info": {
   "codemirror_mode": {
    "name": "ipython",
    "version": 3
   },
   "file_extension": ".py",
   "mimetype": "text/x-python",
   "name": "python",
   "nbconvert_exporter": "python",
   "pygments_lexer": "ipython3",
   "version": "3.9.12"
  }
 },
 "nbformat": 4,
 "nbformat_minor": 5
}
