{
 "cells": [
  {
   "cell_type": "code",
   "execution_count": 75,
   "id": "9d432eca",
   "metadata": {},
   "outputs": [],
   "source": [
    "import pandas as pd\n",
    "import numpy as np"
   ]
  },
  {
   "cell_type": "code",
   "execution_count": 76,
   "id": "87e6e28c",
   "metadata": {},
   "outputs": [],
   "source": [
    "data = pd.read_csv('Play by Play data.2021.csv')"
   ]
  },
  {
   "cell_type": "code",
   "execution_count": 77,
   "id": "eecdd845",
   "metadata": {},
   "outputs": [],
   "source": [
    "#Cleaning data to get only the variables that I need.  \n",
    "to_drop = ['GameId',\n",
    "           'GameDate',\n",
    "           'Quarter',\n",
    "           'Minute',\n",
    "           'Second',\n",
    "           'DefenseTeam',\n",
    "           'YardLine',\n",
    "           'NextScore',\n",
    "           'Description',\n",
    "           'TeamWin',\n",
    "           'SeasonYear',\n",
    "           'Yards',\n",
    "           'Formation',\n",
    "           'IsRush',\n",
    "           'IsPass',\n",
    "           'IsIncomplete',\n",
    "           'IsTouchdown',\n",
    "           'PassType',\n",
    "           'IsSack',\n",
    "           'IsChallenge',\n",
    "           'IsChallengeReversed',\n",
    "           'Challenger',\n",
    "           'IsMeasurement',\n",
    "           'IsInterception',\n",
    "           'YardLineDirection',\n",
    "           'IsFumble',\n",
    "           'IsPenalty',\n",
    "           'IsTwoPointConversion',\n",
    "           'IsTwoPointConversionSuccessful',\n",
    "           'RushDirection',\n",
    "           'YardLineFixed',\n",
    "           'IsPenaltyAccepted',\n",
    "           'PenaltyTeam',\n",
    "           'IsNoPlay',\n",
    "           'PenaltyType',\n",
    "           'Unnamed: 10',\n",
    "           'Unnamed: 12',\n",
    "           'Unnamed: 16',\n",
    "           'Unnamed: 17',\n",
    "           'PenaltyYards']\n",
    "\n",
    "data.drop(to_drop, inplace=True, axis=1)    "
   ]
  },
  {
   "cell_type": "code",
   "execution_count": 78,
   "id": "67d28547",
   "metadata": {},
   "outputs": [],
   "source": [
    "data.dropna()\n",
    "data.drop(data[data['Down'] <= 3].index, inplace = True)\n"
   ]
  },
  {
   "cell_type": "code",
   "execution_count": 79,
   "id": "22ca05fd",
   "metadata": {},
   "outputs": [],
   "source": [
    "data.drop(data[data['PlayType'] == 'NO PLAY'].index, inplace = True)\n",
    "data.drop(data[data['PlayType'] == 'QB KNEEL'].index, inplace = True)\n",
    "data.drop(data[data['PlayType'] == 'EXCEPTION'].index, inplace = True)\n",
    "data.drop(data[data['PlayType'] == 'PENALTY'].index, inplace = True)\n",
    "data.drop(data[data['PlayType'] == 'nan'].index, inplace = True)"
   ]
  },
  {
   "cell_type": "code",
   "execution_count": 127,
   "id": "435c2d3a",
   "metadata": {},
   "outputs": [],
   "source": [
    "data.replace(('PASS', 'RUSH', 'SCRAMBLE', 'FIELD GOAL', 'SACK', 'PUNT', 'FUMBLES'), (0, 1, 2, 3, 4, 5, 6), inplace=True) "
   ]
  },
  {
   "cell_type": "code",
   "execution_count": 117,
   "id": "d4857f2e",
   "metadata": {},
   "outputs": [
    {
     "data": {
      "text/html": [
       "<div>\n",
       "<style scoped>\n",
       "    .dataframe tbody tr th:only-of-type {\n",
       "        vertical-align: middle;\n",
       "    }\n",
       "\n",
       "    .dataframe tbody tr th {\n",
       "        vertical-align: top;\n",
       "    }\n",
       "\n",
       "    .dataframe thead th {\n",
       "        text-align: right;\n",
       "    }\n",
       "</style>\n",
       "<table border=\"1\" class=\"dataframe\">\n",
       "  <thead>\n",
       "    <tr style=\"text-align: right;\">\n",
       "      <th></th>\n",
       "      <th>OffenseTeam</th>\n",
       "      <th>Down</th>\n",
       "      <th>ToGo</th>\n",
       "      <th>SeriesFirstDown</th>\n",
       "      <th>PlayType</th>\n",
       "    </tr>\n",
       "  </thead>\n",
       "  <tbody>\n",
       "    <tr>\n",
       "      <th>7</th>\n",
       "      <td>KC</td>\n",
       "      <td>4</td>\n",
       "      <td>8</td>\n",
       "      <td>1</td>\n",
       "      <td>0.0</td>\n",
       "    </tr>\n",
       "    <tr>\n",
       "      <th>19</th>\n",
       "      <td>TEN</td>\n",
       "      <td>4</td>\n",
       "      <td>3</td>\n",
       "      <td>1</td>\n",
       "      <td>0.0</td>\n",
       "    </tr>\n",
       "    <tr>\n",
       "      <th>77</th>\n",
       "      <td>MIA</td>\n",
       "      <td>4</td>\n",
       "      <td>1</td>\n",
       "      <td>1</td>\n",
       "      <td>1.0</td>\n",
       "    </tr>\n",
       "    <tr>\n",
       "      <th>126</th>\n",
       "      <td>SEA</td>\n",
       "      <td>4</td>\n",
       "      <td>6</td>\n",
       "      <td>0</td>\n",
       "      <td>0.0</td>\n",
       "    </tr>\n",
       "    <tr>\n",
       "      <th>133</th>\n",
       "      <td>PHI</td>\n",
       "      <td>4</td>\n",
       "      <td>6</td>\n",
       "      <td>0</td>\n",
       "      <td>2.0</td>\n",
       "    </tr>\n",
       "    <tr>\n",
       "      <th>...</th>\n",
       "      <td>...</td>\n",
       "      <td>...</td>\n",
       "      <td>...</td>\n",
       "      <td>...</td>\n",
       "      <td>...</td>\n",
       "    </tr>\n",
       "    <tr>\n",
       "      <th>42743</th>\n",
       "      <td>DET</td>\n",
       "      <td>4</td>\n",
       "      <td>18</td>\n",
       "      <td>0</td>\n",
       "      <td>3.0</td>\n",
       "    </tr>\n",
       "    <tr>\n",
       "      <th>42748</th>\n",
       "      <td>DET</td>\n",
       "      <td>4</td>\n",
       "      <td>2</td>\n",
       "      <td>0</td>\n",
       "      <td>1.0</td>\n",
       "    </tr>\n",
       "    <tr>\n",
       "      <th>42765</th>\n",
       "      <td>MIN</td>\n",
       "      <td>4</td>\n",
       "      <td>4</td>\n",
       "      <td>0</td>\n",
       "      <td>2.0</td>\n",
       "    </tr>\n",
       "    <tr>\n",
       "      <th>42769</th>\n",
       "      <td>CIN</td>\n",
       "      <td>4</td>\n",
       "      <td>9</td>\n",
       "      <td>0</td>\n",
       "      <td>2.0</td>\n",
       "    </tr>\n",
       "    <tr>\n",
       "      <th>42779</th>\n",
       "      <td>MIN</td>\n",
       "      <td>4</td>\n",
       "      <td>4</td>\n",
       "      <td>1</td>\n",
       "      <td>0.0</td>\n",
       "    </tr>\n",
       "  </tbody>\n",
       "</table>\n",
       "<p>3487 rows × 5 columns</p>\n",
       "</div>"
      ],
      "text/plain": [
       "      OffenseTeam  Down  ToGo  SeriesFirstDown  PlayType\n",
       "7              KC     4     8                1       0.0\n",
       "19            TEN     4     3                1       0.0\n",
       "77            MIA     4     1                1       1.0\n",
       "126           SEA     4     6                0       0.0\n",
       "133           PHI     4     6                0       2.0\n",
       "...           ...   ...   ...              ...       ...\n",
       "42743         DET     4    18                0       3.0\n",
       "42748         DET     4     2                0       1.0\n",
       "42765         MIN     4     4                0       2.0\n",
       "42769         CIN     4     9                0       2.0\n",
       "42779         MIN     4     4                1       0.0\n",
       "\n",
       "[3487 rows x 5 columns]"
      ]
     },
     "metadata": {},
     "output_type": "display_data"
    }
   ],
   "source": [
    "display(data)"
   ]
  },
  {
   "cell_type": "markdown",
   "id": "c148d636",
   "metadata": {},
   "source": [
    "#1:Describe what the 5 variables mean in the dataset (Chapter 1)."
   ]
  },
  {
   "cell_type": "markdown",
   "id": "6500900e",
   "metadata": {},
   "source": [
    "The five variables in my dataset are the offensive team, the current down, how many yards to go for first down, \n",
    "if the play resulted in a first down, and what the play type was. Down, ToGo, SeriesFirstDown are numeric variables. \n",
    "OffenseTeam and PlayType are Categorical variables. I also changed the PlayType column to numeric so i could use it to compare. \n",
    "PASS= 0\n",
    "RUSH= 1\n",
    "PUNT= 2\n",
    "FIELD GOAL= 3\n",
    "SACK= 4\n",
    "SCRAMBLE= 5\n",
    "FUMBLES= 6"
   ]
  },
  {
   "cell_type": "markdown",
   "id": "fded30af",
   "metadata": {},
   "source": [
    "#2: Include a histogram of each of the 5 variables – in your summary and analysis, identify any outliers and explain the reasoning for them being outliers and how you believe they should be handled (Chapter 2)."
   ]
  },
  {
   "cell_type": "code",
   "execution_count": 118,
   "id": "1b3e40a1",
   "metadata": {},
   "outputs": [],
   "source": [
    "from os.path import basename, exists\n",
    "\n",
    "def download(url):\n",
    "    filename = basename(url)\n",
    "    if not exists(filename):\n",
    "        from urllib.request import urlretrieve\n",
    "\n",
    "        local, _ = urlretrieve(url, filename)\n",
    "        print(\"Downloaded \" + local)\n",
    "download(\"https://github.com/AllenDowney/ThinkStats2/raw/master/code/thinkstats2.py\")\n",
    "download(\"https://github.com/AllenDowney/ThinkStats2/raw/master/code/thinkplot.py\")"
   ]
  },
  {
   "cell_type": "code",
   "execution_count": 119,
   "id": "3c4ae5a0",
   "metadata": {},
   "outputs": [],
   "source": [
    "import thinkstats2\n",
    "import thinkplot"
   ]
  },
  {
   "cell_type": "code",
   "execution_count": 120,
   "id": "c47ad832",
   "metadata": {},
   "outputs": [
    {
     "data": {
      "image/png": "[encoded data removed]",
      "text/plain": [
       "<Figure size 432x288 with 1 Axes>"
      ]
     },
     "metadata": {
      "needs_background": "light"
     },
     "output_type": "display_data"
    }
   ],
   "source": [
    "hist = thinkstats2.Hist(data.OffenseTeam, label='OffenseTeam')\n",
    "thinkplot.Hist(hist)\n",
    "thinkplot.Config(xlabel='Offensive Teams', ylabel='Count')"
   ]
  },
  {
   "cell_type": "code",
   "execution_count": 121,
   "id": "bd39a901",
   "metadata": {},
   "outputs": [
    {
     "data": {
      "image/png": "[encoded data removed]",
      "text/plain": [
       "<Figure size 432x288 with 1 Axes>"
      ]
     },
     "metadata": {
      "needs_background": "light"
     },
     "output_type": "display_data"
    }
   ],
   "source": [
    "hist = thinkstats2.Hist(data.ToGo, label='ToGo')\n",
    "thinkplot.Hist(hist)\n",
    "thinkplot.Config(xlabel='Yards to first down', ylabel='Count')"
   ]
  },
  {
   "cell_type": "code",
   "execution_count": 122,
   "id": "5727594d",
   "metadata": {},
   "outputs": [
    {
     "data": {
      "image/png": "[encoded data removed]",
      "text/plain": [
       "<Figure size 432x288 with 1 Axes>"
      ]
     },
     "metadata": {
      "needs_background": "light"
     },
     "output_type": "display_data"
    }
   ],
   "source": [
    "hist = thinkstats2.Hist(data.SeriesFirstDown, label='SeriesFirstDown')\n",
    "thinkplot.Hist(hist)\n",
    "thinkplot.Config(xlabel='Play resulting in first down', ylabel='Count')"
   ]
  },
  {
   "cell_type": "code",
   "execution_count": 128,
   "id": "100c2134",
   "metadata": {},
   "outputs": [
    {
     "data": {
      "image/png": "[encoded data removed]",
      "text/plain": [
       "<Figure size 432x288 with 1 Axes>"
      ]
     },
     "metadata": {
      "needs_background": "light"
     },
     "output_type": "display_data"
    }
   ],
   "source": [
    "hist = thinkstats2.Hist(data.PlayType, label='PlayType')\n",
    "thinkplot.Hist(hist)\n",
    "thinkplot.Config(xlabel='Play Type', ylabel='Count')"
   ]
  },
  {
   "cell_type": "markdown",
   "id": "671ea442",
   "metadata": {},
   "source": [
    "#3:Include the other descriptive characteristics about the variables: Mean, Mode, Spread, and Tails (Chapter 2)."
   ]
  },
  {
   "cell_type": "code",
   "execution_count": 88,
   "id": "a0484029",
   "metadata": {},
   "outputs": [],
   "source": [
    "mean_down=data.Down.mean()\n",
    "mean_togo=data.ToGo.mean()\n",
    "mean_seriesfirstdown=data.SeriesFirstDown.mean()\n",
    "mean_playtype=data.PlayType.mean()"
   ]
  },
  {
   "cell_type": "code",
   "execution_count": 89,
   "id": "512c9f31",
   "metadata": {},
   "outputs": [
    {
     "data": {
      "text/plain": [
       "4.0"
      ]
     },
     "execution_count": 89,
     "metadata": {},
     "output_type": "execute_result"
    }
   ],
   "source": [
    "mean_down"
   ]
  },
  {
   "cell_type": "code",
   "execution_count": 90,
   "id": "c431a4d2",
   "metadata": {},
   "outputs": [
    {
     "data": {
      "text/plain": [
       "7.773157441927158"
      ]
     },
     "execution_count": 90,
     "metadata": {},
     "output_type": "execute_result"
    }
   ],
   "source": [
    "mean_togo"
   ]
  },
  {
   "cell_type": "code",
   "execution_count": 91,
   "id": "e6ca669d",
   "metadata": {},
   "outputs": [
    {
     "data": {
      "text/plain": [
       "0.09807857757384571"
      ]
     },
     "execution_count": 91,
     "metadata": {},
     "output_type": "execute_result"
    }
   ],
   "source": [
    "mean_seriesfirstdown"
   ]
  },
  {
   "cell_type": "code",
   "execution_count": 92,
   "id": "41d9ff38",
   "metadata": {},
   "outputs": [
    {
     "data": {
      "text/plain": [
       "1.9819277108433735"
      ]
     },
     "execution_count": 92,
     "metadata": {},
     "output_type": "execute_result"
    }
   ],
   "source": [
    "mean_playtype"
   ]
  },
  {
   "cell_type": "markdown",
   "id": "afc5748a",
   "metadata": {},
   "source": [
    "#4:Using pg. 29 of your text as an example, compare two scenarios in your data using a PMF. Reminder, this isn’t comparing two variables against each other – it is the same variable, but a different scenario. Almost like a filter. The example in the book is first babies compared to all other babies, it is still the same variable, but breaking the data out based on criteria we are exploring (Chapter 3)."
   ]
  },
  {
   "cell_type": "code",
   "execution_count": 93,
   "id": "4e5c450d",
   "metadata": {},
   "outputs": [],
   "source": [
    "download(\"https://github.com/AllenDowney/ThinkStats2/raw/master/code/nsfg.py\")\n",
    "download(\"https://github.com/AllenDowney/ThinkStats2/raw/master/code/first.py\")"
   ]
  },
  {
   "cell_type": "code",
   "execution_count": 94,
   "id": "04c35830",
   "metadata": {},
   "outputs": [],
   "source": [
    "import first"
   ]
  },
  {
   "cell_type": "code",
   "execution_count": 95,
   "id": "fb627759",
   "metadata": {},
   "outputs": [],
   "source": [
    "passrun_play = data[data.PlayType <= 1]\n",
    "other_play = data[data.PlayType >= 2]"
   ]
  },
  {
   "cell_type": "code",
   "execution_count": 96,
   "id": "0f46df06",
   "metadata": {},
   "outputs": [],
   "source": [
    "pmf = thinkstats2.Pmf(passrun_play.PlayType, label=\"Run/Pass\")\n",
    "pmf2 = thinkstats2.Pmf(other_play.PlayType, label=\"Other Result\")"
   ]
  },
  {
   "cell_type": "code",
   "execution_count": 97,
   "id": "8f8cbb02",
   "metadata": {},
   "outputs": [
    {
     "data": {
      "image/png": "[encoded data removed]",
      "text/plain": [
       "<Figure size 864x432 with 2 Axes>"
      ]
     },
     "metadata": {
      "needs_background": "light"
     },
     "output_type": "display_data"
    }
   ],
   "source": [
    "thinkplot.PrePlot(2, cols=2)\n",
    "thinkplot.Hist(pmf, align=\"right\")\n",
    "thinkplot.Hist(pmf2, align=\"left\")\n",
    "thinkplot.Config(xlabel=\"Play Type\", ylabel=\"PMF\")\n",
    "\n",
    "thinkplot.PrePlot(2)\n",
    "thinkplot.SubPlot(2)\n",
    "thinkplot.Pmfs([pmf, pmf2])\n",
    "thinkplot.Config(xlabel=\"Play Type\")"
   ]
  },
  {
   "cell_type": "markdown",
   "id": "880e108e",
   "metadata": {},
   "source": [
    "#5: Create 1 CDF with one of your variables, using page 41-44 as your guide, what does this tell you about your variable and how does it address the question you are trying to answer (Chapter 4)."
   ]
  },
  {
   "cell_type": "code",
   "execution_count": 109,
   "id": "ad4d3067",
   "metadata": {
    "scrolled": true
   },
   "outputs": [
    {
     "data": {
      "image/png": "[encoded data removed]",
      "text/plain": [
       "<Figure size 432x288 with 1 Axes>"
      ]
     },
     "metadata": {
      "needs_background": "light"
     },
     "output_type": "display_data"
    }
   ],
   "source": [
    "cdf = thinkstats2.Cdf(data.PlayType, label='PlayType')\n",
    "thinkplot.Cdf(cdf)\n",
    "thinkplot.Config(xlabel='Play Type', ylabel='CDF')"
   ]
  },
  {
   "cell_type": "markdown",
   "id": "e2070fd2",
   "metadata": {},
   "source": [
    "This CDF shows me that almost 80% of 4th down plays are either a run, pass, or punt."
   ]
  },
  {
   "cell_type": "code",
   "execution_count": 115,
   "id": "a0f4ed30",
   "metadata": {},
   "outputs": [
    {
     "data": {
      "text/plain": [
       "0.18187033849684453"
      ]
     },
     "execution_count": 115,
     "metadata": {},
     "output_type": "execute_result"
    }
   ],
   "source": [
    "cdf.Prob(1)"
   ]
  },
  {
   "cell_type": "markdown",
   "id": "373daa72",
   "metadata": {},
   "source": [
    "This CDF shows me that 18.1% of 4th down plays are either a run, pass, or punt."
   ]
  },
  {
   "cell_type": "markdown",
   "id": "befc0c5a",
   "metadata": {},
   "source": [
    "#6:Plot 1 analytical distribution and provide your analysis on how it applies to the dataset you have chosen (Chapter 5)."
   ]
  },
  {
   "cell_type": "code",
   "execution_count": 100,
   "id": "64093842",
   "metadata": {},
   "outputs": [
    {
     "name": "stdout",
     "output_type": "stream",
     "text": [
      "Mean, Var 7.632348639953203 29.63874297760199\n",
      "Sigma 5.444147589623373\n"
     ]
    },
    {
     "data": {
      "image/png": "[encoded data removed]",
      "text/plain": [
       "<Figure size 432x288 with 1 Axes>"
      ]
     },
     "metadata": {
      "needs_background": "light"
     },
     "output_type": "display_data"
    }
   ],
   "source": [
    "mu, var = thinkstats2.TrimmedMeanVar(data.ToGo, p=0.01)\n",
    "print(\"Mean, Var\", mu, var)\n",
    "\n",
    "sigma = np.sqrt(var)\n",
    "print(\"Sigma\", sigma)\n",
    "xs, ps = thinkstats2.RenderNormalCdf(mu, sigma, low=0, high=35)\n",
    "\n",
    "thinkplot.Plot(xs, ps, label=\"model\", color=\"0.6\")\n",
    "\n",
    "cdf2 = thinkstats2.Cdf(data.ToGo, label=\"data\")\n",
    "thinkplot.PrePlot(1)\n",
    "thinkplot.Cdf(cdf2)\n",
    "thinkplot.Config(title=\"Yards to go for first down\", xlabel=\"Yards to go\", ylabel=\"CDF\")"
   ]
  },
  {
   "cell_type": "markdown",
   "id": "6ce70504",
   "metadata": {},
   "source": [
    "#7:Create two scatter plots comparing two variables and provide your analysis on correlation and causation. Remember, covariance, Pearson’s correlation, and Non-Linear Relationships should also be considered during your analysis (Chapter 7)."
   ]
  },
  {
   "cell_type": "code",
   "execution_count": 106,
   "id": "788d1de5",
   "metadata": {},
   "outputs": [
    {
     "data": {
      "image/png": "[encoded data removed]",
      "text/plain": [
       "<Figure size 432x288 with 1 Axes>"
      ]
     },
     "metadata": {
      "needs_background": "light"
     },
     "output_type": "display_data"
    }
   ],
   "source": [
    "thinkplot.Scatter(data.PlayType, data.SeriesFirstDown, alpha=0.1, s=10)\n",
    "thinkplot.Config(xlabel='Play Type',\n",
    "                 ylabel='First Down',\n",
    "                 legend=False)"
   ]
  },
  {
   "cell_type": "code",
   "execution_count": 108,
   "id": "e399dc46",
   "metadata": {},
   "outputs": [
    {
     "data": {
      "image/png": "[encoded data removed]",
      "text/plain": [
       "<Figure size 432x288 with 1 Axes>"
      ]
     },
     "metadata": {
      "needs_background": "light"
     },
     "output_type": "display_data"
    }
   ],
   "source": [
    "thinkplot.Scatter(data.PlayType, data.ToGo, alpha=0.1, s=10)\n",
    "thinkplot.Config(xlabel='Play Type',\n",
    "                 ylabel='Yards till first down',\n",
    "                 legend=False)"
   ]
  },
  {
   "cell_type": "markdown",
   "id": "8d9a6a41",
   "metadata": {},
   "source": [
    "What these scatter plots show me is that the only plays that truly acieved a first down are Run, Pass, and Scramble. I find the second scatter plot even more informative because it shows the correlation between less yards and acheiving a first down. "
   ]
  },
  {
   "cell_type": "markdown",
   "id": "c719a69b",
   "metadata": {},
   "source": [
    "#8:Conduct a test on your hypothesis using one of the methods covered in Chapter 9."
   ]
  },
  {
   "cell_type": "code",
   "execution_count": 104,
   "id": "f8c42e58",
   "metadata": {},
   "outputs": [],
   "source": [
    "class CorrelationPermute(thinkstats2.HypothesisTest):\n",
    "\n",
    "    def TestStatistic(self, data):\n",
    "        xs, ys = data\n",
    "        test_stat = abs(thinkstats2.Corr(xs, ys))\n",
    "        return test_stat\n",
    "\n",
    "    def RunModel(self):\n",
    "        xs, ys = self.data\n",
    "        xs = np.random.permutation(xs)\n",
    "        return xs, ys"
   ]
  },
  {
   "cell_type": "code",
   "execution_count": 105,
   "id": "2c71314e",
   "metadata": {},
   "outputs": [
    {
     "data": {
      "text/plain": [
       "0.0"
      ]
     },
     "execution_count": 105,
     "metadata": {},
     "output_type": "execute_result"
    }
   ],
   "source": [
    "data2 = data.PlayType.values, data.SeriesFirstDown.values\n",
    "ht = CorrelationPermute(data2)\n",
    "pvalue = ht.PValue()\n",
    "pvalue"
   ]
  },
  {
   "cell_type": "markdown",
   "id": "b91e584b",
   "metadata": {},
   "source": [
    "#9: For this project, conduct a regression analysis on either one dependent and one explanatory variable, or multiple explanatory variables (Chapter 10 & 11)."
   ]
  },
  {
   "cell_type": "code",
   "execution_count": 110,
   "id": "f28afc39",
   "metadata": {},
   "outputs": [],
   "source": [
    "import statsmodels.formula.api as smf"
   ]
  },
  {
   "cell_type": "code",
   "execution_count": 112,
   "id": "ecf23478",
   "metadata": {},
   "outputs": [
    {
     "data": {
      "text/html": [
       "<table class=\"simpletable\">\n",
       "<caption>OLS Regression Results</caption>\n",
       "<tr>\n",
       "  <th>Dep. Variable:</th>     <td>SeriesFirstDown</td> <th>  R-squared:         </th> <td>   0.224</td> \n",
       "</tr>\n",
       "<tr>\n",
       "  <th>Model:</th>                   <td>OLS</td>       <th>  Adj. R-squared:    </th> <td>   0.224</td> \n",
       "</tr>\n",
       "<tr>\n",
       "  <th>Method:</th>             <td>Least Squares</td>  <th>  F-statistic:       </th> <td>   1005.</td> \n",
       "</tr>\n",
       "<tr>\n",
       "  <th>Date:</th>             <td>Fri, 18 Nov 2022</td> <th>  Prob (F-statistic):</th> <td>6.15e-194</td>\n",
       "</tr>\n",
       "<tr>\n",
       "  <th>Time:</th>                 <td>13:10:05</td>     <th>  Log-Likelihood:    </th> <td> -278.13</td> \n",
       "</tr>\n",
       "<tr>\n",
       "  <th>No. Observations:</th>      <td>  3486</td>      <th>  AIC:               </th> <td>   560.3</td> \n",
       "</tr>\n",
       "<tr>\n",
       "  <th>Df Residuals:</th>          <td>  3484</td>      <th>  BIC:               </th> <td>   572.6</td> \n",
       "</tr>\n",
       "<tr>\n",
       "  <th>Df Model:</th>              <td>     1</td>      <th>                     </th>     <td> </td>    \n",
       "</tr>\n",
       "<tr>\n",
       "  <th>Covariance Type:</th>      <td>nonrobust</td>    <th>                     </th>     <td> </td>    \n",
       "</tr>\n",
       "</table>\n",
       "<table class=\"simpletable\">\n",
       "<tr>\n",
       "      <td></td>         <th>coef</th>     <th>std err</th>      <th>t</th>      <th>P>|t|</th>  <th>[0.025</th>    <th>0.975]</th>  \n",
       "</tr>\n",
       "<tr>\n",
       "  <th>Intercept</th> <td>    0.3924</td> <td>    0.010</td> <td>   38.125</td> <td> 0.000</td> <td>    0.372</td> <td>    0.413</td>\n",
       "</tr>\n",
       "<tr>\n",
       "  <th>PlayType</th>  <td>   -0.1485</td> <td>    0.005</td> <td>  -31.694</td> <td> 0.000</td> <td>   -0.158</td> <td>   -0.139</td>\n",
       "</tr>\n",
       "</table>\n",
       "<table class=\"simpletable\">\n",
       "<tr>\n",
       "  <th>Omnibus:</th>       <td>1365.562</td> <th>  Durbin-Watson:     </th> <td>   1.916</td>\n",
       "</tr>\n",
       "<tr>\n",
       "  <th>Prob(Omnibus):</th>  <td> 0.000</td>  <th>  Jarque-Bera (JB):  </th> <td>5259.347</td>\n",
       "</tr>\n",
       "<tr>\n",
       "  <th>Skew:</th>           <td> 1.944</td>  <th>  Prob(JB):          </th> <td>    0.00</td>\n",
       "</tr>\n",
       "<tr>\n",
       "  <th>Kurtosis:</th>       <td> 7.592</td>  <th>  Cond. No.          </th> <td>    5.98</td>\n",
       "</tr>\n",
       "</table><br/><br/>Notes:<br/>[1] Standard Errors assume that the covariance matrix of the errors is correctly specified."
      ],
      "text/plain": [
       "<class 'statsmodels.iolib.summary.Summary'>\n",
       "\"\"\"\n",
       "                            OLS Regression Results                            \n",
       "==============================================================================\n",
       "Dep. Variable:        SeriesFirstDown   R-squared:                       0.224\n",
       "Model:                            OLS   Adj. R-squared:                  0.224\n",
       "Method:                 Least Squares   F-statistic:                     1005.\n",
       "Date:                Fri, 18 Nov 2022   Prob (F-statistic):          6.15e-194\n",
       "Time:                        13:10:05   Log-Likelihood:                -278.13\n",
       "No. Observations:                3486   AIC:                             560.3\n",
       "Df Residuals:                    3484   BIC:                             572.6\n",
       "Df Model:                           1                                         \n",
       "Covariance Type:            nonrobust                                         \n",
       "==============================================================================\n",
       "                 coef    std err          t      P>|t|      [0.025      0.975]\n",
       "------------------------------------------------------------------------------\n",
       "Intercept      0.3924      0.010     38.125      0.000       0.372       0.413\n",
       "PlayType      -0.1485      0.005    -31.694      0.000      -0.158      -0.139\n",
       "==============================================================================\n",
       "Omnibus:                     1365.562   Durbin-Watson:                   1.916\n",
       "Prob(Omnibus):                  0.000   Jarque-Bera (JB):             5259.347\n",
       "Skew:                           1.944   Prob(JB):                         0.00\n",
       "Kurtosis:                       7.592   Cond. No.                         5.98\n",
       "==============================================================================\n",
       "\n",
       "Notes:\n",
       "[1] Standard Errors assume that the covariance matrix of the errors is correctly specified.\n",
       "\"\"\""
      ]
     },
     "execution_count": 112,
     "metadata": {},
     "output_type": "execute_result"
    }
   ],
   "source": [
    "formula = 'SeriesFirstDown ~ PlayType'\n",
    "model = smf.ols(formula, data=data)\n",
    "results = model.fit()\n",
    "results.summary()"
   ]
  }
 ],
 "metadata": {
  "kernelspec": {
   "display_name": "Python 3 (ipykernel)",
   "language": "python",
   "name": "python3"
  },
  "language_info": {
   "codemirror_mode": {
    "name": "ipython",
    "version": 3
   },
   "file_extension": ".py",
   "mimetype": "text/x-python",
   "name": "python",
   "nbconvert_exporter": "python",
   "pygments_lexer": "ipython3",
   "version": "3.9.12"
  }
 },
 "nbformat": 4,
 "nbformat_minor": 5
}
